{
    "nbformat_minor": 2, 
    "cells": [
        {
            "source": "\n  <a href=\"http://cocl.us/NotebooksPython101\"><img src = \"https://ibm.box.com/shared/static/yfe6h4az47ktg2mm9h05wby2n7e8kei3.png\" width = 750, align = \"center\"></a>", 
            "cell_type": "markdown", 
            "metadata": {}
        }, 
        {
            "source": "<a ><img src = \"https://ibm.box.com/shared/static/ugcqz6ohbvff804xp84y4kqnvvk3bq1g.png\" width = 200,align = \"center\"></a>\n\n\n\n<h1 align=center><font size = 5>Python - Writing Your First Python Code!</font></h1>   ", 
            "cell_type": "markdown", 
            "metadata": {}
        }, 
        {
            "source": "# Welcome!\n\nBy the end of this notebook, you will have learned the basics of Python, including writing some basic commands, understanding object types, and some simple operations!  ", 
            "cell_type": "markdown", 
            "metadata": {}
        }, 
        {
            "source": "# Table of Contents\n\n\n<div class=\"alert alert-block alert-info\" style=\"margin-top: 20px\">\n<li><a href=\"#ref0\">First Program in Python</a></li>\n<li><a href=\"#ref1\">Object Types  </a></li>\n<li><a href=\"#ref2\">Expressions and Variables</a></li>\n\n<br>\n<p></p>\nEstimated Time Needed: <strong>25 min</strong>\n</div>\n\n<hr>", 
            "cell_type": "markdown", 
            "metadata": {}
        }, 
        {
            "source": " <a id=\"ref0\"></a>\n<h2 align=center>Your First Program in Python </h2> ", 
            "cell_type": "markdown", 
            "metadata": {}
        }, 
        {
            "source": "A statement or expression is an instruction the computer will run or execute. Perhaps the simplest program you can write is to print a statement in Python.", 
            "cell_type": "markdown", 
            "metadata": {}
        }, 
        {
            "source": "<div class=\"alert alert-success alertsuccess\" style=\"margin-top: 20px\">\n**Tip**: To *execute* the Python code in the grey code cell below, **click on it and press Shift + Enter**.\n</div>", 
            "cell_type": "markdown", 
            "metadata": {}
        }, 
        {
            "execution_count": 1, 
            "cell_type": "code", 
            "metadata": {}, 
            "outputs": [
                {
                    "output_type": "stream", 
                    "name": "stdout", 
                    "text": "Hello World!\n"
                }
            ], 
            "source": "print('Hello World!')"
        }, 
        {
            "source": "After executing the cell above, you should see that Python return the string, `Hello Python 101`. Congratulations on running your first Python code!", 
            "cell_type": "markdown", 
            "metadata": {}
        }, 
        {
            "source": "<div class=\"alert alert-success alertsuccess\" style=\"margin-top: 20px\">\n**Tip:** **`print()`** is the **function** that you **executed**, and you *passed in* an **argument** of `'Hello World!'`.\n</div>\n", 
            "cell_type": "markdown", 
            "metadata": {}
        }, 
        {
            "source": "### Python 3", 
            "cell_type": "markdown", 
            "metadata": {}
        }, 
        {
            "source": "How do we know that Python 3 is running? Take a look in the top-right hand corner of this notebook. You should see \"Python 3\"!", 
            "cell_type": "markdown", 
            "metadata": {}
        }, 
        {
            "source": "### Writing comments in Python", 
            "cell_type": "markdown", 
            "metadata": {}
        }, 
        {
            "source": "In addition to writing code, note that it is customary to comment your code to help describe what it does. Not only does this help **other people** understand your code, it can also serve as a _reminder_ **to you** of what your code does. (This is especially true when you write some code and then come back to it weeks or months later.)\n\nTo write comments in your Python code, use the hash symbol (#) before writing your comment. When you run the code Python will ignore everything after the # in that line.", 
            "cell_type": "markdown", 
            "metadata": {}
        }, 
        {
            "execution_count": 2, 
            "cell_type": "code", 
            "metadata": {}, 
            "outputs": [
                {
                    "output_type": "stream", 
                    "name": "stdout", 
                    "text": "Hello Python 101\n"
                }
            ], 
            "source": "print('Hello Python 101') #this my comment\n#print('Hi')"
        }, 
        {
            "source": "Great! After executing the cell above, you should notice that **\"this is my comment** did not appeared in the output, because it was a comment (and thus ignored by Python). \nThe second line was also not executed because `print('Hi')` was preceded by a hash symbol (#) as well!", 
            "cell_type": "markdown", 
            "metadata": {}
        }, 
        {
            "source": "### Errors in Python", 
            "cell_type": "markdown", 
            "metadata": {}
        }, 
        {
            "source": "Before continuing, it's important to note when things go wrong in Python, and we cause **errors**.", 
            "cell_type": "markdown", 
            "metadata": {}
        }, 
        {
            "source": "There are many kinds of errors, and you **do not need to memorize the various types of errors**. Instead, what's most important is know **what the error messages mean**.\n\nFor example, if you spell **print** as **frint**, you will get an error message.", 
            "cell_type": "markdown", 
            "metadata": {}
        }, 
        {
            "execution_count": 3, 
            "cell_type": "code", 
            "metadata": {}, 
            "outputs": [
                {
                    "ename": "NameError", 
                    "evalue": "name 'frint' is not defined", 
                    "traceback": [
                        "\u001b[0;31m---------------------------------------------------------------------------\u001b[0m", 
                        "\u001b[0;31mNameError\u001b[0m                                 Traceback (most recent call last)", 
                        "\u001b[0;32m<ipython-input-3-2655fdc1f9ad>\u001b[0m in \u001b[0;36m<module>\u001b[0;34m()\u001b[0m\n\u001b[0;32m----> 1\u001b[0;31m \u001b[0mfrint\u001b[0m\u001b[0;34m(\u001b[0m\u001b[0;34m\"Hello World!\"\u001b[0m\u001b[0;34m)\u001b[0m\u001b[0;34m\u001b[0m\u001b[0m\n\u001b[0m", 
                        "\u001b[0;31mNameError\u001b[0m: name 'frint' is not defined"
                    ], 
                    "output_type": "error"
                }
            ], 
            "source": "frint(\"Hello World!\")"
        }, 
        {
            "source": "The error message tells you (1) where the error occurred, and (2) what kind of error it was. Here, Python attempted to run the function `frint`, but could not determine what `frint` -- since it is _undefined_.", 
            "cell_type": "markdown", 
            "metadata": {}
        }, 
        {
            "source": "### Does Python know the error in the script before you run it?\nNo, Python is naive! Python will try to run the code line-by-line, and it will stop if it runs into an error.", 
            "cell_type": "markdown", 
            "metadata": {}
        }, 
        {
            "execution_count": 4, 
            "cell_type": "code", 
            "metadata": {}, 
            "outputs": [
                {
                    "output_type": "stream", 
                    "name": "stdout", 
                    "text": "This will be printed\n"
                }, 
                {
                    "ename": "NameError", 
                    "evalue": "name 'frint' is not defined", 
                    "traceback": [
                        "\u001b[0;31m---------------------------------------------------------------------------\u001b[0m", 
                        "\u001b[0;31mNameError\u001b[0m                                 Traceback (most recent call last)", 
                        "\u001b[0;32m<ipython-input-4-bf496861136f>\u001b[0m in \u001b[0;36m<module>\u001b[0;34m()\u001b[0m\n\u001b[1;32m      1\u001b[0m \u001b[0mprint\u001b[0m\u001b[0;34m(\u001b[0m\u001b[0;34m\"This will be printed\"\u001b[0m\u001b[0;34m)\u001b[0m\u001b[0;34m\u001b[0m\u001b[0m\n\u001b[0;32m----> 2\u001b[0;31m \u001b[0mfrint\u001b[0m\u001b[0;34m(\u001b[0m\u001b[0;34m\"This will cause an error\"\u001b[0m\u001b[0;34m)\u001b[0m\u001b[0;34m\u001b[0m\u001b[0m\n\u001b[0m\u001b[1;32m      3\u001b[0m \u001b[0mprint\u001b[0m\u001b[0;34m(\u001b[0m\u001b[0;34m\"This will NOT be printed\"\u001b[0m\u001b[0;34m)\u001b[0m\u001b[0;34m\u001b[0m\u001b[0m\n", 
                        "\u001b[0;31mNameError\u001b[0m: name 'frint' is not defined"
                    ], 
                    "output_type": "error"
                }
            ], 
            "source": "print(\"This will be printed\")\nfrint(\"This will cause an error\")\nprint(\"This will NOT be printed\")"
        }, 
        {
            "source": "More on errors later on in this course!", 
            "cell_type": "markdown", 
            "metadata": {}
        }, 
        {
            "source": "### Exercise: Your First Program", 
            "cell_type": "markdown", 
            "metadata": {}
        }, 
        {
            "source": "#### Using the `print()` function, print out the phrase: \"hello world\"", 
            "cell_type": "markdown", 
            "metadata": {}
        }, 
        {
            "execution_count": 5, 
            "cell_type": "code", 
            "metadata": {}, 
            "outputs": [
                {
                    "output_type": "stream", 
                    "name": "stdout", 
                    "text": "hello world\n"
                }
            ], 
            "source": "# Write your code below and press Shift+Enter to execute \n\nprint(\"hello world\")\n\n"
        }, 
        {
            "source": "Double-click __here__ for the solution.\n\n<!-- Your answer is below:\n\n\nprint(\"hello world!\")\n\n-->", 
            "cell_type": "markdown", 
            "metadata": {}
        }, 
        {
            "source": "#### Print out the phrase: \"Hello World\"  and comment it with the phrase \"printing Hello World\" _all in one line of code_", 
            "cell_type": "markdown", 
            "metadata": {}
        }, 
        {
            "execution_count": 6, 
            "cell_type": "code", 
            "metadata": {}, 
            "outputs": [
                {
                    "output_type": "stream", 
                    "name": "stdout", 
                    "text": "hello world\n"
                }
            ], 
            "source": "# Write your code below\n\nprint(\"hello world\") # \"printing Hello World\"\n\n"
        }, 
        {
            "source": "Double-click __here__ for the solution.\n\n<!-- Your answer is below:\n\nprint(\"Hello World\") #print Hello World\n\n-->\n", 
            "cell_type": "markdown", 
            "metadata": {}
        }, 
        {
            "source": "<a id=\"ref1\"></a>\n<h2 align=center> Types of objects in Python </h2>", 
            "cell_type": "markdown", 
            "metadata": {}
        }, 
        {
            "source": "You can have many different object types in Python, let's start with **strings**, **integers** and **floats**. Anytime you write words (text) in Python, you're using character **strings** (strings for short). Numbers, on the other hand, depend: numbers can be **integers** (like -1, 0, 100) or **floats**, which are real numbers (like 3.14, -42.0).", 
            "cell_type": "markdown", 
            "metadata": {}
        }, 
        {
            "source": " <a,align = \"center\"><img src = \"https://ibm.box.com/shared/static/8zp0t4oh7kuzleudrszhkqukcup1708f.png\" width = 600></a>", 
            "cell_type": "markdown", 
            "metadata": {}
        }, 
        {
            "source": "The following chart summarizes three data types for the last examples,  the first column indicates the expression  the second column indicates the data type\n", 
            "cell_type": "markdown", 
            "metadata": {}
        }, 
        {
            "execution_count": 7, 
            "cell_type": "code", 
            "metadata": {}, 
            "outputs": [
                {
                    "execution_count": 7, 
                    "metadata": {}, 
                    "data": {
                        "text/plain": "11"
                    }, 
                    "output_type": "execute_result"
                }
            ], 
            "source": "11 #integer"
        }, 
        {
            "execution_count": 8, 
            "cell_type": "code", 
            "metadata": {}, 
            "outputs": [
                {
                    "execution_count": 8, 
                    "metadata": {}, 
                    "data": {
                        "text/plain": "2.14"
                    }, 
                    "output_type": "execute_result"
                }
            ], 
            "source": "2.14 #float"
        }, 
        {
            "execution_count": 9, 
            "cell_type": "code", 
            "metadata": {}, 
            "outputs": [
                {
                    "execution_count": 9, 
                    "metadata": {}, 
                    "data": {
                        "text/plain": "'Hello Python 101'"
                    }, 
                    "output_type": "execute_result"
                }
            ], 
            "source": "\"Hello Python 101\" #character string"
        }, 
        {
            "source": " We can see the actual data type in python by using the **`type()`** command", 
            "cell_type": "markdown", 
            "metadata": {}
        }, 
        {
            "execution_count": 10, 
            "cell_type": "code", 
            "metadata": {}, 
            "outputs": [
                {
                    "execution_count": 10, 
                    "metadata": {}, 
                    "data": {
                        "text/plain": "int"
                    }, 
                    "output_type": "execute_result"
                }
            ], 
            "source": "type(12)"
        }, 
        {
            "execution_count": 11, 
            "cell_type": "code", 
            "metadata": {}, 
            "outputs": [
                {
                    "execution_count": 11, 
                    "metadata": {}, 
                    "data": {
                        "text/plain": "float"
                    }, 
                    "output_type": "execute_result"
                }
            ], 
            "source": "type(2.14)"
        }, 
        {
            "execution_count": 12, 
            "cell_type": "code", 
            "metadata": {}, 
            "outputs": [
                {
                    "execution_count": 12, 
                    "metadata": {}, 
                    "data": {
                        "text/plain": "str"
                    }, 
                    "output_type": "execute_result"
                }
            ], 
            "source": "type(\"Hello Python 101\")"
        }, 
        {
            "source": "#### Using the `type()` function, check the object type of `12.0`?", 
            "cell_type": "markdown", 
            "metadata": {}
        }, 
        {
            "execution_count": 13, 
            "cell_type": "code", 
            "metadata": {}, 
            "outputs": [
                {
                    "execution_count": 13, 
                    "metadata": {}, 
                    "data": {
                        "text/plain": "float"
                    }, 
                    "output_type": "execute_result"
                }
            ], 
            "source": "# Write your code below\n\ntype(12.0)\n\n"
        }, 
        {
            "source": "### Integers", 
            "cell_type": "markdown", 
            "metadata": {}
        }, 
        {
            "source": "Here are some integers, integers  can be negative or positive:\n", 
            "cell_type": "markdown", 
            "metadata": {}
        }, 
        {
            "source": "<a  align = \"center\"><img src = \"https://ibm.box.com/shared/static/19iqm3q5pvxzuwa22d5ihxcr6eftjl48.png\" width = 600></a>", 
            "cell_type": "markdown", 
            "metadata": {}
        }, 
        {
            "source": "We can verify some of the above examples using the type command:", 
            "cell_type": "markdown", 
            "metadata": {}
        }, 
        {
            "execution_count": 14, 
            "cell_type": "code", 
            "metadata": {}, 
            "outputs": [
                {
                    "execution_count": 14, 
                    "metadata": {}, 
                    "data": {
                        "text/plain": "int"
                    }, 
                    "output_type": "execute_result"
                }
            ], 
            "source": "type(-1)"
        }, 
        {
            "execution_count": 15, 
            "cell_type": "code", 
            "metadata": {}, 
            "outputs": [
                {
                    "execution_count": 15, 
                    "metadata": {}, 
                    "data": {
                        "text/plain": "int"
                    }, 
                    "output_type": "execute_result"
                }
            ], 
            "source": "type(4)"
        }, 
        {
            "execution_count": 16, 
            "cell_type": "code", 
            "metadata": {}, 
            "outputs": [
                {
                    "execution_count": 16, 
                    "metadata": {}, 
                    "data": {
                        "text/plain": "int"
                    }, 
                    "output_type": "execute_result"
                }
            ], 
            "source": "type(0)"
        }, 
        {
            "source": "### Floats ", 
            "cell_type": "markdown", 
            "metadata": {}
        }, 
        {
            "source": " Floats are real numbers; they include the integers but also \"numbers in-between the integers\". Consider the numbers between  0 and one we can select numbers in-between them, these numbers are floats. Similarly, consider the numbers between 0.5 and 0.6. We can select numbers in-between them, these are floats as well. We can continue the process, zooming in for different numbers, of course, there is a limit, but it is quite small.", 
            "cell_type": "markdown", 
            "metadata": {}
        }, 
        {
            "source": " We can verify some of the above examples using the type command:", 
            "cell_type": "markdown", 
            "metadata": {}
        }, 
        {
            "execution_count": 17, 
            "cell_type": "code", 
            "metadata": {}, 
            "outputs": [
                {
                    "execution_count": 17, 
                    "metadata": {}, 
                    "data": {
                        "text/plain": "float"
                    }, 
                    "output_type": "execute_result"
                }
            ], 
            "source": "type(1.0)"
        }, 
        {
            "execution_count": 18, 
            "cell_type": "code", 
            "metadata": {}, 
            "outputs": [
                {
                    "execution_count": 18, 
                    "metadata": {}, 
                    "data": {
                        "text/plain": "float"
                    }, 
                    "output_type": "execute_result"
                }
            ], 
            "source": "type(0.5)"
        }, 
        {
            "execution_count": 19, 
            "cell_type": "code", 
            "metadata": {}, 
            "outputs": [
                {
                    "execution_count": 19, 
                    "metadata": {}, 
                    "data": {
                        "text/plain": "float"
                    }, 
                    "output_type": "execute_result"
                }
            ], 
            "source": "type(0.56)"
        }, 
        {
            "source": "### Converting from one object type to a different object type", 
            "cell_type": "markdown", 
            "metadata": {}
        }, 
        {
            "source": "You can change the type of the object in Python; this is called typecasting. For example, you can convert an integer into a float, as in 2 to 2.0.", 
            "cell_type": "markdown", 
            "metadata": {}
        }, 
        {
            "execution_count": 20, 
            "cell_type": "code", 
            "metadata": {}, 
            "outputs": [
                {
                    "execution_count": 20, 
                    "metadata": {}, 
                    "data": {
                        "text/plain": "int"
                    }, 
                    "output_type": "execute_result"
                }
            ], 
            "source": "type(2) #verify that this is an integer"
        }, 
        {
            "source": "#### Converting to float:", 
            "cell_type": "markdown", 
            "metadata": {}
        }, 
        {
            "execution_count": 21, 
            "cell_type": "code", 
            "metadata": {}, 
            "outputs": [
                {
                    "execution_count": 21, 
                    "metadata": {}, 
                    "data": {
                        "text/plain": "2.0"
                    }, 
                    "output_type": "execute_result"
                }
            ], 
            "source": "float(2)"
        }, 
        {
            "execution_count": 22, 
            "cell_type": "code", 
            "metadata": {}, 
            "outputs": [
                {
                    "execution_count": 22, 
                    "metadata": {}, 
                    "data": {
                        "text/plain": "float"
                    }, 
                    "output_type": "execute_result"
                }
            ], 
            "source": "type(float(2))"
        }, 
        {
            "source": "#### Converting to integer:", 
            "cell_type": "markdown", 
            "metadata": {}
        }, 
        {
            "source": " Nothing really changes. If you cast a float to an integer, you must be careful. For example, if you cast the float 1.1 to 1 you will lose some information : ", 
            "cell_type": "markdown", 
            "metadata": {}
        }, 
        {
            "execution_count": 23, 
            "cell_type": "code", 
            "metadata": {}, 
            "outputs": [
                {
                    "execution_count": 23, 
                    "metadata": {}, 
                    "data": {
                        "text/plain": "1"
                    }, 
                    "output_type": "execute_result"
                }
            ], 
            "source": "int(1.1)"
        }, 
        {
            "source": "#### Converting from strings to integers/floats:", 
            "cell_type": "markdown", 
            "metadata": {}
        }, 
        {
            "source": "If a string contains an integer value, you can convert it to an integer:", 
            "cell_type": "markdown", 
            "metadata": {}
        }, 
        {
            "execution_count": 24, 
            "cell_type": "code", 
            "metadata": {}, 
            "outputs": [
                {
                    "execution_count": 24, 
                    "metadata": {}, 
                    "data": {
                        "text/plain": "1"
                    }, 
                    "output_type": "execute_result"
                }
            ], 
            "source": "int('1')"
        }, 
        {
            "source": "You can also convert strings containing float values into float objects", 
            "cell_type": "markdown", 
            "metadata": {}
        }, 
        {
            "execution_count": 25, 
            "cell_type": "code", 
            "metadata": {}, 
            "outputs": [
                {
                    "execution_count": 25, 
                    "metadata": {}, 
                    "data": {
                        "text/plain": "1.2"
                    }, 
                    "output_type": "execute_result"
                }
            ], 
            "source": "float('1.2')"
        }, 
        {
            "source": "However, if we attempt to convert a string that contains a non-numerical value, we get an error:", 
            "cell_type": "markdown", 
            "metadata": {}
        }, 
        {
            "execution_count": 26, 
            "cell_type": "code", 
            "metadata": {}, 
            "outputs": [
                {
                    "ename": "ValueError", 
                    "evalue": "invalid literal for int() with base 10: 'A'", 
                    "traceback": [
                        "\u001b[0;31m---------------------------------------------------------------------------\u001b[0m", 
                        "\u001b[0;31mValueError\u001b[0m                                Traceback (most recent call last)", 
                        "\u001b[0;32m<ipython-input-26-2e0b20450aad>\u001b[0m in \u001b[0;36m<module>\u001b[0;34m()\u001b[0m\n\u001b[0;32m----> 1\u001b[0;31m \u001b[0mint\u001b[0m\u001b[0;34m(\u001b[0m\u001b[0;34m\"A\"\u001b[0m\u001b[0;34m)\u001b[0m\u001b[0;34m\u001b[0m\u001b[0m\n\u001b[0m", 
                        "\u001b[0;31mValueError\u001b[0m: invalid literal for int() with base 10: 'A'"
                    ], 
                    "output_type": "error"
                }
            ], 
            "source": "int(\"A\")"
        }, 
        {
            "source": "#### Converting to strings:", 
            "cell_type": "markdown", 
            "metadata": {}
        }, 
        {
            "source": "You can convert an int to a string:", 
            "cell_type": "markdown", 
            "metadata": {}
        }, 
        {
            "execution_count": 27, 
            "cell_type": "code", 
            "metadata": {}, 
            "outputs": [
                {
                    "execution_count": 27, 
                    "metadata": {}, 
                    "data": {
                        "text/plain": "'1'"
                    }, 
                    "output_type": "execute_result"
                }
            ], 
            "source": "str(1)"
        }, 
        {
            "source": " You can convert a  float to a string ", 
            "cell_type": "markdown", 
            "metadata": {}
        }, 
        {
            "execution_count": 28, 
            "cell_type": "code", 
            "metadata": {}, 
            "outputs": [
                {
                    "execution_count": 28, 
                    "metadata": {}, 
                    "data": {
                        "text/plain": "'1.2'"
                    }, 
                    "output_type": "execute_result"
                }
            ], 
            "source": "str(1.2)"
        }, 
        {
            "source": "### Boolean ", 
            "cell_type": "markdown", 
            "metadata": {}
        }, 
        {
            "source": "Boolean is another important  type in Python; a Boolean can take on two values. The first value is true, just remember we use an uppercase T:", 
            "cell_type": "markdown", 
            "metadata": {}
        }, 
        {
            "execution_count": 29, 
            "cell_type": "code", 
            "metadata": {}, 
            "outputs": [
                {
                    "execution_count": 29, 
                    "metadata": {}, 
                    "data": {
                        "text/plain": "True"
                    }, 
                    "output_type": "execute_result"
                }
            ], 
            "source": "True"
        }, 
        {
            "source": " Boolean values can also be false, with  an uppercase F:", 
            "cell_type": "markdown", 
            "metadata": {}
        }, 
        {
            "execution_count": 30, 
            "cell_type": "code", 
            "metadata": {}, 
            "outputs": [
                {
                    "execution_count": 30, 
                    "metadata": {}, 
                    "data": {
                        "text/plain": "False"
                    }, 
                    "output_type": "execute_result"
                }
            ], 
            "source": "False"
        }, 
        {
            "source": "Using the type command on a Boolean value we  obtain the term bool, this is short for Boolean ", 
            "cell_type": "markdown", 
            "metadata": {}
        }, 
        {
            "execution_count": 31, 
            "cell_type": "code", 
            "metadata": {}, 
            "outputs": [
                {
                    "execution_count": 31, 
                    "metadata": {}, 
                    "data": {
                        "text/plain": "bool"
                    }, 
                    "output_type": "execute_result"
                }
            ], 
            "source": "type(True)"
        }, 
        {
            "execution_count": 32, 
            "cell_type": "code", 
            "metadata": {}, 
            "outputs": [
                {
                    "execution_count": 32, 
                    "metadata": {}, 
                    "data": {
                        "text/plain": "bool"
                    }, 
                    "output_type": "execute_result"
                }
            ], 
            "source": "type(False)"
        }, 
        {
            "source": "If we cast a Boolean true to an integer or float we will get a 1, if we cast a Boolean false to an integer or float. If we get a zero   if you cast a 1 to a boolean, you get a true similarly, if you cast a 0 to a Boolean you get a false. ", 
            "cell_type": "markdown", 
            "metadata": {}
        }, 
        {
            "execution_count": 33, 
            "cell_type": "code", 
            "metadata": {}, 
            "outputs": [
                {
                    "execution_count": 33, 
                    "metadata": {}, 
                    "data": {
                        "text/plain": "1"
                    }, 
                    "output_type": "execute_result"
                }
            ], 
            "source": "int(True)"
        }, 
        {
            "execution_count": 34, 
            "cell_type": "code", 
            "metadata": {}, 
            "outputs": [
                {
                    "execution_count": 34, 
                    "metadata": {}, 
                    "data": {
                        "text/plain": "True"
                    }, 
                    "output_type": "execute_result"
                }
            ], 
            "source": "bool(1)"
        }, 
        {
            "execution_count": 35, 
            "cell_type": "code", 
            "metadata": {}, 
            "outputs": [
                {
                    "execution_count": 35, 
                    "metadata": {}, 
                    "data": {
                        "text/plain": "False"
                    }, 
                    "output_type": "execute_result"
                }
            ], 
            "source": "bool(0)"
        }, 
        {
            "execution_count": 36, 
            "cell_type": "code", 
            "metadata": {}, 
            "outputs": [
                {
                    "execution_count": 36, 
                    "metadata": {}, 
                    "data": {
                        "text/plain": "1.0"
                    }, 
                    "output_type": "execute_result"
                }
            ], 
            "source": "float(True)"
        }, 
        {
            "source": "### Quiz on types  ", 
            "cell_type": "markdown", 
            "metadata": {}
        }, 
        {
            "source": "#### What is the type of the result of: `6 / 2`", 
            "cell_type": "markdown", 
            "metadata": {}
        }, 
        {
            "execution_count": 38, 
            "cell_type": "code", 
            "metadata": {}, 
            "outputs": [
                {
                    "execution_count": 38, 
                    "metadata": {}, 
                    "data": {
                        "text/plain": "float"
                    }, 
                    "output_type": "execute_result"
                }
            ], 
            "source": "type(6/2)"
        }, 
        {
            "source": "Double-click __here__ for the solution.\n\n<!-- Your answer is below:\nthe type if float \ntype(6/2)\n-->", 
            "cell_type": "markdown", 
            "metadata": {}
        }, 
        {
            "source": "#### What is the type of the result of: `6 // 2`? (Note the double slash //)", 
            "cell_type": "markdown", 
            "metadata": {}
        }, 
        {
            "execution_count": 39, 
            "cell_type": "code", 
            "metadata": {}, 
            "outputs": [
                {
                    "execution_count": 39, 
                    "metadata": {}, 
                    "data": {
                        "text/plain": "int"
                    }, 
                    "output_type": "execute_result"
                }
            ], 
            "source": "type(6//2)"
        }, 
        {
            "source": "Double-click __here__ for the solution.\n\n<!-- Your answer is below:\nint:\ndouble slashes stand for integer division \n\n\n-->", 
            "cell_type": "markdown", 
            "metadata": {}
        }, 
        {
            "source": "<a id=\"ref2\"></a>\n<h2 align=center> Expression and Variables </h2>\n\n", 
            "cell_type": "markdown", 
            "metadata": {}
        }, 
        {
            "source": "### Expressions ", 
            "cell_type": "markdown", 
            "metadata": {}
        }, 
        {
            "source": "Expressions are operations that Python performs. For example, basic arithmetic operations like adding multiple numbers.", 
            "cell_type": "markdown", 
            "metadata": {}
        }, 
        {
            "execution_count": 40, 
            "cell_type": "code", 
            "metadata": {}, 
            "outputs": [
                {
                    "execution_count": 40, 
                    "metadata": {}, 
                    "data": {
                        "text/plain": "160"
                    }, 
                    "output_type": "execute_result"
                }
            ], 
            "source": "43 + 60 + 16 + 41"
        }, 
        {
            "source": " We can perform operations such as subtraction using the subtraction sign. In this case the result is a negative number.", 
            "cell_type": "markdown", 
            "metadata": {}
        }, 
        {
            "execution_count": 41, 
            "cell_type": "code", 
            "metadata": {}, 
            "outputs": [
                {
                    "execution_count": 41, 
                    "metadata": {}, 
                    "data": {
                        "text/plain": "-10"
                    }, 
                    "output_type": "execute_result"
                }
            ], 
            "source": "50 - 60"
        }, 
        {
            "source": "We can use multiplication using an asterisk:", 
            "cell_type": "markdown", 
            "metadata": {}
        }, 
        {
            "execution_count": 42, 
            "cell_type": "code", 
            "metadata": {}, 
            "outputs": [
                {
                    "execution_count": 42, 
                    "metadata": {}, 
                    "data": {
                        "text/plain": "25"
                    }, 
                    "output_type": "execute_result"
                }
            ], 
            "source": "5 * 5"
        }, 
        {
            "source": "We can also perform division with the forward slash", 
            "cell_type": "markdown", 
            "metadata": {}
        }, 
        {
            "execution_count": 43, 
            "cell_type": "code", 
            "metadata": {}, 
            "outputs": [
                {
                    "execution_count": 43, 
                    "metadata": {}, 
                    "data": {
                        "text/plain": "5.0"
                    }, 
                    "output_type": "execute_result"
                }
            ], 
            "source": "25 / 5"
        }, 
        {
            "execution_count": null, 
            "cell_type": "code", 
            "metadata": {}, 
            "outputs": [], 
            "source": "25 / 6"
        }, 
        {
            "source": "We can use the double slash for integer division, where the result is rounded ", 
            "cell_type": "markdown", 
            "metadata": {}
        }, 
        {
            "execution_count": 44, 
            "cell_type": "code", 
            "metadata": {}, 
            "outputs": [
                {
                    "execution_count": 44, 
                    "metadata": {}, 
                    "data": {
                        "text/plain": "5"
                    }, 
                    "output_type": "execute_result"
                }
            ], 
            "source": "25//5"
        }, 
        {
            "execution_count": 45, 
            "cell_type": "code", 
            "metadata": {}, 
            "outputs": [
                {
                    "execution_count": 45, 
                    "metadata": {}, 
                    "data": {
                        "text/plain": "4"
                    }, 
                    "output_type": "execute_result"
                }
            ], 
            "source": "25//6"
        }, 
        {
            "source": "**What is 160 min in hours?**", 
            "cell_type": "markdown", 
            "metadata": {}
        }, 
        {
            "execution_count": 47, 
            "cell_type": "code", 
            "metadata": {}, 
            "outputs": [
                {
                    "execution_count": 47, 
                    "metadata": {}, 
                    "data": {
                        "text/plain": "2.6666666666666665"
                    }, 
                    "output_type": "execute_result"
                }
            ], 
            "source": "160/60.0"
        }, 
        {
            "source": "Double-click __here__ for the solution.\n\n<!-- Your answer is below:\n160.0 / 60.0\n```\n-->", 
            "cell_type": "markdown", 
            "metadata": {}
        }, 
        {
            "source": " Python follows mathematical conventions when performing mathematical expressions. The following operations are in different order. In both cases Python performs multiplication, then addition to obtain the final result. ", 
            "cell_type": "markdown", 
            "metadata": {}
        }, 
        {
            "execution_count": 48, 
            "cell_type": "code", 
            "metadata": {}, 
            "outputs": [
                {
                    "execution_count": 48, 
                    "metadata": {}, 
                    "data": {
                        "text/plain": "150"
                    }, 
                    "output_type": "execute_result"
                }
            ], 
            "source": " 2 * 60 + 30"
        }, 
        {
            "source": " The expressions in the parentheses are performed first. We then multiply the result by 60, the result is 1920.", 
            "cell_type": "markdown", 
            "metadata": {}
        }, 
        {
            "execution_count": 49, 
            "cell_type": "code", 
            "metadata": {}, 
            "outputs": [
                {
                    "execution_count": 49, 
                    "metadata": {}, 
                    "data": {
                        "text/plain": "1920"
                    }, 
                    "output_type": "execute_result"
                }
            ], 
            "source": "(30 + 2) * 60"
        }, 
        {
            "source": "<div class=\"alert alert-success alertsuccess\" style=\"margin-top: 20px\">\n<h4> [Tip] Summary  </h4>\n<p></p>\nYou can do a variety of mathematical operations in Python including:  \n<li> addition: **2 + 2** </li>\n<li> subtraction: **5 - 2** </li>\n<li> multiplication: **3 \\* 2** </li>\n<li> division: **4 / 2** </li>\n<li> exponentiation: **4 \\*\\* 2** </li>\n</div>", 
            "cell_type": "markdown", 
            "metadata": {}
        }, 
        {
            "source": "### Variables", 
            "cell_type": "markdown", 
            "metadata": {}
        }, 
        {
            "source": "We can also **store** our output in **variables**, so we can use them later on. For example:", 
            "cell_type": "markdown", 
            "metadata": {}
        }, 
        {
            "execution_count": 50, 
            "cell_type": "code", 
            "metadata": {}, 
            "outputs": [], 
            "source": "x = 43 + 60 + 16 + 41"
        }, 
        {
            "source": "To return the value of **`x`**, we can simply run the variable as a command:", 
            "cell_type": "markdown", 
            "metadata": {}
        }, 
        {
            "execution_count": 51, 
            "cell_type": "code", 
            "metadata": {}, 
            "outputs": [
                {
                    "execution_count": 51, 
                    "metadata": {}, 
                    "data": {
                        "text/plain": "160"
                    }, 
                    "output_type": "execute_result"
                }
            ], 
            "source": "x"
        }, 
        {
            "source": "We can also perform operations on **`x`** and save the result to a **new variable**:", 
            "cell_type": "markdown", 
            "metadata": {}
        }, 
        {
            "execution_count": 52, 
            "cell_type": "code", 
            "metadata": {}, 
            "outputs": [
                {
                    "execution_count": 52, 
                    "metadata": {}, 
                    "data": {
                        "text/plain": "2.6666666666666665"
                    }, 
                    "output_type": "execute_result"
                }
            ], 
            "source": "y = x / 60\ny"
        }, 
        {
            "source": "If we save something to an **existing variable**, it will **overwrite** the previous value:", 
            "cell_type": "markdown", 
            "metadata": {}
        }, 
        {
            "execution_count": 53, 
            "cell_type": "code", 
            "metadata": {}, 
            "outputs": [
                {
                    "execution_count": 53, 
                    "metadata": {}, 
                    "data": {
                        "text/plain": "2.6666666666666665"
                    }, 
                    "output_type": "execute_result"
                }
            ], 
            "source": "x = x / 60\nx"
        }, 
        {
            "source": "It's good practice to use **meaningful variable names**, so you don't have to keep track of what variable is what:", 
            "cell_type": "markdown", 
            "metadata": {}
        }, 
        {
            "execution_count": 54, 
            "cell_type": "code", 
            "metadata": {}, 
            "outputs": [
                {
                    "execution_count": 54, 
                    "metadata": {}, 
                    "data": {
                        "text/plain": "85"
                    }, 
                    "output_type": "execute_result"
                }
            ], 
            "source": "total_min = (43 + 42 )\ntotal_min"
        }, 
        {
            "execution_count": 55, 
            "cell_type": "code", 
            "metadata": {}, 
            "outputs": [
                {
                    "execution_count": 55, 
                    "metadata": {}, 
                    "data": {
                        "text/plain": "1.4166666666666667"
                    }, 
                    "output_type": "execute_result"
                }
            ], 
            "source": "total_hr = total_min / 60  \ntotal_hr"
        }, 
        {
            "source": "You can put this all into a single expression, but remember to use **round brackets** to add together the album lengths first, before dividing by 60.", 
            "cell_type": "markdown", 
            "metadata": {}
        }, 
        {
            "execution_count": 56, 
            "cell_type": "code", 
            "metadata": {}, 
            "outputs": [
                {
                    "execution_count": 56, 
                    "metadata": {}, 
                    "data": {
                        "text/plain": "2.3666666666666667"
                    }, 
                    "output_type": "execute_result"
                }
            ], 
            "source": "total_hr = (43 + 42 + 57) / 60  # get total hours in a single expression\ntotal_hr"
        }, 
        {
            "source": "<hr></hr>\n<div class=\"alert alert-success alertsuccess\" style=\"margin-top: 0px\">\n<h4> [Tip] Variables in Python </h4>\n<p></p>\nAs you just learned, you can use **variables** to store values for repeated use. Here are some more **characteristics of variables in Python**:\n<li>variables store the output of a block of code </li>\n<li>variables are typically assigned using **=** (as in **x = 1**) </li>\n<p></p>\n</div>\n<hr></hr>", 
            "cell_type": "markdown", 
            "metadata": {}
        }, 
        {
            "source": " <a id=\"#ref1a\"></a>\n<h2 align=center> Quiz on Expression and Variables in Python</h2>", 
            "cell_type": "markdown", 
            "metadata": {}
        }, 
        {
            "source": "####  What is the value of x ? <p> x = 3 + 2 * 2</p>", 
            "cell_type": "markdown", 
            "metadata": {}
        }, 
        {
            "execution_count": 57, 
            "cell_type": "code", 
            "metadata": {}, 
            "outputs": [
                {
                    "execution_count": 57, 
                    "metadata": {}, 
                    "data": {
                        "text/plain": "7"
                    }, 
                    "output_type": "execute_result"
                }
            ], 
            "source": "x = 3 + 2 * 2\nx\n"
        }, 
        {
            "source": "Double-click __here__ for the solution.\n\n<!-- Your answer is below:\n7\n-->\n", 
            "cell_type": "markdown", 
            "metadata": {}
        }, 
        {
            "source": "####  What is the value of y ? <p> y = (3 + 2) * 2</p>", 
            "cell_type": "markdown", 
            "metadata": {}
        }, 
        {
            "execution_count": 58, 
            "cell_type": "code", 
            "metadata": {}, 
            "outputs": [
                {
                    "execution_count": 58, 
                    "metadata": {}, 
                    "data": {
                        "text/plain": "10"
                    }, 
                    "output_type": "execute_result"
                }
            ], 
            "source": "y = (3 + 2) * 2\ny"
        }, 
        {
            "source": "Double-click __here__ for the solution.\n\n<!-- Your answer is below:\n10\n-->", 
            "cell_type": "markdown", 
            "metadata": {}
        }, 
        {
            "source": "#### What is the value of z ? <p> z = x + y</p>", 
            "cell_type": "markdown", 
            "metadata": {}
        }, 
        {
            "execution_count": 60, 
            "cell_type": "code", 
            "metadata": {}, 
            "outputs": [
                {
                    "execution_count": 60, 
                    "metadata": {}, 
                    "data": {
                        "text/plain": "17"
                    }, 
                    "output_type": "execute_result"
                }
            ], 
            "source": "z = x + y\nz"
        }, 
        {
            "source": "Double-click __here__ for the solution.\n\n<!-- Your answer is below:\n\n17\n-->", 
            "cell_type": "markdown", 
            "metadata": {}
        }, 
        {
            "source": " <div class=\"alert alert-block alert-info\" style=\"margin-top: 20px\">\n <a href=\"http://cocl.us/NotebooksPython101bottom\"><img src = \"https://ibm.box.com/shared/static/irypdxea2q4th88zu1o1tsd06dya10go.png\" width = 750, align = \"center\"></a>", 
            "cell_type": "markdown", 
            "metadata": {}
        }, 
        {
            "source": "<hr>\nCopyright &copy; 2017 IBM Cognitive Class. This notebook and its source code are released under the terms of the [MIT License](https://cognitiveclass.ai/mit-license/).", 
            "cell_type": "markdown", 
            "metadata": {}
        }, 
        {
            "source": "### About the Authors:  \n\n\n [Joseph Santarcangelo](https://www.linkedin.com/in/joseph-s-50398b136/) is a Data Scientist at IBM, and holds a PhD in Electrical Engineering, his research focused on using machine learning, signal processing, and computer vision to determine how videos impact human cognition. Joseph has been working for IBM since he completed his PhD.\n\n\n", 
            "cell_type": "markdown", 
            "metadata": {}
        }
    ], 
    "metadata": {
        "kernelspec": {
            "display_name": "Python 3.5", 
            "name": "python3", 
            "language": "python"
        }, 
        "language_info": {
            "mimetype": "text/x-python", 
            "nbconvert_exporter": "python", 
            "version": "3.5.5", 
            "name": "python", 
            "file_extension": ".py", 
            "pygments_lexer": "ipython3", 
            "codemirror_mode": {
                "version": 3, 
                "name": "ipython"
            }
        }
    }, 
    "nbformat": 4
}