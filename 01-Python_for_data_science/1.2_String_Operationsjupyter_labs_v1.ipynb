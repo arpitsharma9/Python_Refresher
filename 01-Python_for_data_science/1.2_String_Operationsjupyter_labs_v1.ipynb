{
    "nbformat_minor": 2, 
    "cells": [
        {
            "source": " <div class=\"alert alert-block alert-info\" style=\"margin-top: 20px\">\n <a href=\"http://cocl.us/NotebooksPython101\"><img src = \"https://ibm.box.com/shared/static/yfe6h4az47ktg2mm9h05wby2n7e8kei3.png\" width = 750, align = \"center\"></a>\n\n", 
            "cell_type": "markdown", 
            "metadata": {}
        }, 
        {
            "source": "<a href=\"https://www.bigdatauniversity.com\"><img src = \"https://ibm.box.com/shared/static/ugcqz6ohbvff804xp84y4kqnvvk3bq1g.png\" width = 300, align = \"center\"></a>\n\n<h1 align=center><font size = 5>String Operations </font></h1>", 
            "cell_type": "markdown", 
            "metadata": {}
        }, 
        {
            "source": "<br>", 
            "cell_type": "markdown", 
            "metadata": {}
        }, 
        {
            "source": "## Table of Contents\n\n\n<div class=\"alert alert-block alert-info\" style=\"margin-top: 20px\">\n<li><a href=\"#ref0\">Strings</a></li>\n<li><a href=\"#ref1\">Indexing</a></li>\n<li><a href=\"#ref2\">Escape Sequences </a></li>\n<li><a href=\"#ref3\">String Operations</a></li>\n<li><a href=\"#ref4\">Quizz </a></li>\n<br>\n<p></p>\nEstimated Time Needed: <strong>15 min</strong>\n</div>\n\n<hr>", 
            "cell_type": "markdown", 
            "metadata": {}
        }, 
        {
            "source": "<a id=\"ref0\"></a>\n<h2 align=center>Strings </h2>", 
            "cell_type": "markdown", 
            "metadata": {}
        }, 
        {
            "source": " A string is contained within 2 quotes:", 
            "cell_type": "markdown", 
            "metadata": {}
        }, 
        {
            "execution_count": 1, 
            "cell_type": "code", 
            "metadata": {}, 
            "outputs": [
                {
                    "execution_count": 1, 
                    "metadata": {}, 
                    "data": {
                        "text/plain": "'Michael Jackson'"
                    }, 
                    "output_type": "execute_result"
                }
            ], 
            "source": "\"Michael Jackson\""
        }, 
        {
            "source": "You can also use single  quotes:", 
            "cell_type": "markdown", 
            "metadata": {}
        }, 
        {
            "execution_count": 2, 
            "cell_type": "code", 
            "metadata": {}, 
            "outputs": [
                {
                    "execution_count": 2, 
                    "metadata": {}, 
                    "data": {
                        "text/plain": "'Michael Jackson'"
                    }, 
                    "output_type": "execute_result"
                }
            ], 
            "source": "'Michael Jackson'"
        }, 
        {
            "source": "A string can be spaces and digits: ", 
            "cell_type": "markdown", 
            "metadata": {}
        }, 
        {
            "execution_count": 3, 
            "cell_type": "code", 
            "metadata": {}, 
            "outputs": [
                {
                    "execution_count": 3, 
                    "metadata": {}, 
                    "data": {
                        "text/plain": "'1 2 3 4 5 6 '"
                    }, 
                    "output_type": "execute_result"
                }
            ], 
            "source": "'1 2 3 4 5 6 '"
        }, 
        {
            "source": "A string can also be special characters : ", 
            "cell_type": "markdown", 
            "metadata": {}
        }, 
        {
            "execution_count": 4, 
            "cell_type": "code", 
            "metadata": {}, 
            "outputs": [
                {
                    "execution_count": 4, 
                    "metadata": {}, 
                    "data": {
                        "text/plain": "'@#2_#]&*^%$'"
                    }, 
                    "output_type": "execute_result"
                }
            ], 
            "source": "'@#2_#]&*^%$'"
        }, 
        {
            "source": "We can print our string using the print statement:", 
            "cell_type": "markdown", 
            "metadata": {}
        }, 
        {
            "execution_count": 5, 
            "cell_type": "code", 
            "metadata": {}, 
            "outputs": [
                {
                    "output_type": "stream", 
                    "name": "stdout", 
                    "text": "hello!\n"
                }
            ], 
            "source": "print(\"hello!\")"
        }, 
        {
            "source": "We can bind or assign a string to another variable:\n", 
            "cell_type": "markdown", 
            "metadata": {}
        }, 
        {
            "execution_count": 6, 
            "cell_type": "code", 
            "metadata": {}, 
            "outputs": [
                {
                    "execution_count": 6, 
                    "metadata": {}, 
                    "data": {
                        "text/plain": "'Michael Jackson'"
                    }, 
                    "output_type": "execute_result"
                }
            ], 
            "source": "Name= \"Michael Jackson\"\nName"
        }, 
        {
            "source": " <a id=\"ref1\"></a>\n<h2 align=center>Indexing </h2>", 
            "cell_type": "markdown", 
            "metadata": {}
        }, 
        {
            "source": "It is helpful to think of a string as an ordered sequence. Each element in the sequence can be accessed using an index represented by the array of numbers:  ", 
            "cell_type": "markdown", 
            "metadata": {}
        }, 
        {
            "source": " <img src = \"https://ibm.box.com/shared/static/esdu9w118rm1aldff7ff8c9b3kpjdazc.png\" width = 600, align = \"center\"></a>", 
            "cell_type": "markdown", 
            "metadata": {}
        }, 
        {
            "source": " The first index can be accessed as follows:", 
            "cell_type": "markdown", 
            "metadata": {}
        }, 
        {
            "execution_count": 7, 
            "cell_type": "code", 
            "metadata": {}, 
            "outputs": [
                {
                    "output_type": "stream", 
                    "name": "stdout", 
                    "text": "o\n"
                }
            ], 
            "source": "print(Name[13])"
        }, 
        {
            "source": " We can access index 6:", 
            "cell_type": "markdown", 
            "metadata": {}
        }, 
        {
            "execution_count": 8, 
            "cell_type": "code", 
            "metadata": {}, 
            "outputs": [
                {
                    "output_type": "stream", 
                    "name": "stdout", 
                    "text": "l\n"
                }
            ], 
            "source": "print(Name[6])"
        }, 
        {
            "source": "Moreover, we can access the 13th index:", 
            "cell_type": "markdown", 
            "metadata": {}
        }, 
        {
            "execution_count": 9, 
            "cell_type": "code", 
            "metadata": {}, 
            "outputs": [
                {
                    "output_type": "stream", 
                    "name": "stdout", 
                    "text": "o\n"
                }
            ], 
            "source": "print(Name[13])"
        }, 
        {
            "source": " We can also use negative indexing with strings:", 
            "cell_type": "markdown", 
            "metadata": {}
        }, 
        {
            "source": "<img src = \"https://ibm.box.com/shared/static/rmq8akevtt6uufox3xai7q2kqs4j9kan.png\" width = 600, align = \"center\"></a>", 
            "cell_type": "markdown", 
            "metadata": {}
        }, 
        {
            "source": " The last element is given by the  index -1: ", 
            "cell_type": "markdown", 
            "metadata": {}
        }, 
        {
            "execution_count": 10, 
            "cell_type": "code", 
            "metadata": {}, 
            "outputs": [
                {
                    "output_type": "stream", 
                    "name": "stdout", 
                    "text": "n\n"
                }
            ], 
            "source": "print(Name[-1])"
        }, 
        {
            "source": " The first element can be obtained by  index -15:", 
            "cell_type": "markdown", 
            "metadata": {}
        }, 
        {
            "execution_count": 11, 
            "cell_type": "code", 
            "metadata": {}, 
            "outputs": [
                {
                    "output_type": "stream", 
                    "name": "stdout", 
                    "text": "M\n"
                }
            ], 
            "source": "print(Name[-15])"
        }, 
        {
            "source": " We can find the number of characters in a string by using 'len', short for length:", 
            "cell_type": "markdown", 
            "metadata": {}
        }, 
        {
            "execution_count": 12, 
            "cell_type": "code", 
            "metadata": {}, 
            "outputs": [
                {
                    "execution_count": 12, 
                    "metadata": {}, 
                    "data": {
                        "text/plain": "15"
                    }, 
                    "output_type": "execute_result"
                }
            ], 
            "source": "len(\"Michael Jackson\")"
        }, 
        {
            "source": "We can obtain multiple characters from a string using slicing, we can obtain the 0 to 4th and 8th to the 12th element:  ", 
            "cell_type": "markdown", 
            "metadata": {}
        }, 
        {
            "source": " <img src=\"https://ibm.box.com/shared/static/bva43bmp00cxeunqh4w7blkgniycbign.png\" width=600,align=\"center\"></a>\n\n", 
            "cell_type": "markdown", 
            "metadata": {}
        }, 
        {
            "execution_count": 13, 
            "cell_type": "code", 
            "metadata": {}, 
            "outputs": [
                {
                    "execution_count": 13, 
                    "metadata": {}, 
                    "data": {
                        "text/plain": "'Mich'"
                    }, 
                    "output_type": "execute_result"
                }
            ], 
            "source": "Name[0:4]"
        }, 
        {
            "execution_count": 14, 
            "cell_type": "code", 
            "metadata": {}, 
            "outputs": [
                {
                    "execution_count": 14, 
                    "metadata": {}, 
                    "data": {
                        "text/plain": "'Jack'"
                    }, 
                    "output_type": "execute_result"
                }
            ], 
            "source": "Name[8:12]"
        }, 
        {
            "source": " We can also  input a stride value as follows, with the '2' indicating that we are selecting every second variable:", 
            "cell_type": "markdown", 
            "metadata": {}
        }, 
        {
            "source": " <img src=\"https://ibm.box.com/shared/static/f49xvym409rxclhtbr30xrs9kc4l5419.png\" width=600,align=\"center\"></a>\n\n", 
            "cell_type": "markdown", 
            "metadata": {}
        }, 
        {
            "execution_count": 15, 
            "cell_type": "code", 
            "metadata": {}, 
            "outputs": [
                {
                    "execution_count": 15, 
                    "metadata": {}, 
                    "data": {
                        "text/plain": "'McalJcsn'"
                    }, 
                    "output_type": "execute_result"
                }
            ], 
            "source": "Name[::2]"
        }, 
        {
            "source": "We can also incorporate slicing  with the stride. In this case, we select the first five elements and then use the stride: ", 
            "cell_type": "markdown", 
            "metadata": {}
        }, 
        {
            "execution_count": 16, 
            "cell_type": "code", 
            "metadata": {}, 
            "outputs": [
                {
                    "execution_count": 16, 
                    "metadata": {}, 
                    "data": {
                        "text/plain": "'Mca'"
                    }, 
                    "output_type": "execute_result"
                }
            ], 
            "source": "Name[0:5:2]"
        }, 
        {
            "execution_count": null, 
            "cell_type": "code", 
            "metadata": {}, 
            "outputs": [], 
            "source": ""
        }, 
        {
            "source": "We can concatenate or combine strings by using the addition symbols, and the result is a new string that is a combination of both:\n", 
            "cell_type": "markdown", 
            "metadata": {}
        }, 
        {
            "execution_count": 17, 
            "cell_type": "code", 
            "metadata": {}, 
            "outputs": [
                {
                    "execution_count": 17, 
                    "metadata": {}, 
                    "data": {
                        "text/plain": "'Michael Jacksonis the best'"
                    }, 
                    "output_type": "execute_result"
                }
            ], 
            "source": "Statement = Name + \"is the best\"\nStatement"
        }, 
        {
            "source": " To replicate values of a string we simply multiply the string by the number of times we would like to replicate it. In this case, the number is three. The result is a new string, and this new string consists of three copies of the original string:\n", 
            "cell_type": "markdown", 
            "metadata": {}
        }, 
        {
            "execution_count": 18, 
            "cell_type": "code", 
            "metadata": {}, 
            "outputs": [
                {
                    "execution_count": 18, 
                    "metadata": {}, 
                    "data": {
                        "text/plain": "'Michael Jackson Michael Jackson Michael Jackson '"
                    }, 
                    "output_type": "execute_result"
                }
            ], 
            "source": "3*\"Michael Jackson \""
        }, 
        {
            "source": "You can create a new string by setting it to the original variable. Concatenated  with a new string, the result is a new string that changes from Michael Jackson to \u201cMichael Jackson is the best\".\n", 
            "cell_type": "markdown", 
            "metadata": {}
        }, 
        {
            "execution_count": 19, 
            "cell_type": "code", 
            "metadata": {}, 
            "outputs": [
                {
                    "execution_count": 19, 
                    "metadata": {}, 
                    "data": {
                        "text/plain": "'Michael Jackson is the best'"
                    }, 
                    "output_type": "execute_result"
                }
            ], 
            "source": "Name= \"Michael Jackson\"\nName= Name+\" is the best\"\nName\n"
        }, 
        {
            "source": " <a id=\"ref2\"></a>\n<h2 align=center>Escape Sequences  </h2>", 
            "cell_type": "markdown", 
            "metadata": {}
        }, 
        {
            "source": "Back slashes represent the beginning  of escape sequences. Escape sequences represent strings that may be difficult to input. For example, back slash \"n\" represents a new line. The output is given by a new line after the back slash \"n\u201d is encountered:\n", 
            "cell_type": "markdown", 
            "metadata": {}
        }, 
        {
            "execution_count": 20, 
            "cell_type": "code", 
            "metadata": {}, 
            "outputs": [
                {
                    "output_type": "stream", 
                    "name": "stdout", 
                    "text": " Michael Jackson \n is the best\n"
                }
            ], 
            "source": "print(\" Michael Jackson \\n is the best\" )"
        }, 
        {
            "source": "Similarly, back slash  \"t\" represents a tab: ", 
            "cell_type": "markdown", 
            "metadata": {}
        }, 
        {
            "execution_count": 21, 
            "cell_type": "code", 
            "metadata": {}, 
            "outputs": [
                {
                    "output_type": "stream", 
                    "name": "stdout", 
                    "text": " Michael Jackson \t is the best\n"
                }
            ], 
            "source": "print(\" Michael Jackson \\t is the best\" )"
        }, 
        {
            "source": " If you want to place a back slash in your string, use a double back slash:", 
            "cell_type": "markdown", 
            "metadata": {}
        }, 
        {
            "execution_count": 22, 
            "cell_type": "code", 
            "metadata": {}, 
            "outputs": [
                {
                    "output_type": "stream", 
                    "name": "stdout", 
                    "text": " Michael Jackson \\ is the best\n"
                }
            ], 
            "source": "print(\" Michael Jackson \\\\ is the best\" )"
        }, 
        {
            "source": " We can also place an \"r\" before the string to display the backslash:", 
            "cell_type": "markdown", 
            "metadata": {}
        }, 
        {
            "execution_count": 23, 
            "cell_type": "code", 
            "metadata": {}, 
            "outputs": [
                {
                    "output_type": "stream", 
                    "name": "stdout", 
                    "text": " Michael Jackson \\ is the best\n"
                }
            ], 
            "source": "print(r\" Michael Jackson \\ is the best\" )"
        }, 
        {
            "source": "<a id=\"ref3\"></a>\n<h2 align=center>String Operations</h2>", 
            "cell_type": "markdown", 
            "metadata": {}
        }, 
        {
            "source": "There are many string operation methods in Python that can be used to manipulate the data. We are going to use some basic string operations on the data. \n\n", 
            "cell_type": "markdown", 
            "metadata": {}
        }, 
        {
            "source": "Let's try with the method \"upper\"; this method converts upper case characters to lower case characters:", 
            "cell_type": "markdown", 
            "metadata": {}
        }, 
        {
            "execution_count": 24, 
            "cell_type": "code", 
            "metadata": {}, 
            "outputs": [
                {
                    "output_type": "stream", 
                    "name": "stdout", 
                    "text": "before upper: Thriller is the sixth studio album\nAfter upper: THRILLER IS THE SIXTH STUDIO ALBUM\n"
                }
            ], 
            "source": "A=\"Thriller is the sixth studio album\"\nprint(\"before upper:\",A)\nB=A.upper()\nprint(\"After upper:\",B)"
        }, 
        {
            "source": "<br>", 
            "cell_type": "markdown", 
            "metadata": {}
        }, 
        {
            "source": "The method replaces a segment of the string, i.e. a substring  with a new string. We input the part of the string we would like to change. The second argument is what we would like to exchange the segment with, and the result is a new string with the segment changed: \n", 
            "cell_type": "markdown", 
            "metadata": {}
        }, 
        {
            "execution_count": 25, 
            "cell_type": "code", 
            "metadata": {}, 
            "outputs": [
                {
                    "execution_count": 25, 
                    "metadata": {}, 
                    "data": {
                        "text/plain": "'Janet Jackson is the best'"
                    }, 
                    "output_type": "execute_result"
                }
            ], 
            "source": "A=\"Michael Jackson is the best\"\nB=A.replace('Michael', 'Janet')\nB"
        }, 
        {
            "source": "The method \"find\" finds a sub-string. The argument is the substring you would like to find, and the output is the first index of the sequence. We can find the sub-string \"jack\" or \"el\".  \n", 
            "cell_type": "markdown", 
            "metadata": {}
        }, 
        {
            "source": " <img src=\"https://ibm.box.com/shared/static/mc414goh1l8jfo9gb19yibuylk8zk7dh.png\" width=600,align=\"center\"></a>", 
            "cell_type": "markdown", 
            "metadata": {}
        }, 
        {
            "execution_count": 26, 
            "cell_type": "code", 
            "metadata": {}, 
            "outputs": [
                {
                    "execution_count": 26, 
                    "metadata": {}, 
                    "data": {
                        "text/plain": "5"
                    }, 
                    "output_type": "execute_result"
                }
            ], 
            "source": "Name=\"Michael Jackson\"\nName.find('el')"
        }, 
        {
            "execution_count": 27, 
            "cell_type": "code", 
            "metadata": {}, 
            "outputs": [
                {
                    "execution_count": 27, 
                    "metadata": {}, 
                    "data": {
                        "text/plain": "8"
                    }, 
                    "output_type": "execute_result"
                }
            ], 
            "source": "Name.find('Jack')"
        }, 
        {
            "source": "If the  sub-string is not in the string then the output is a negative one. For example, the string 'Jasdfasdasdf' is not a substring:", 
            "cell_type": "markdown", 
            "metadata": {}
        }, 
        {
            "execution_count": 28, 
            "cell_type": "code", 
            "metadata": {}, 
            "outputs": [
                {
                    "execution_count": 28, 
                    "metadata": {}, 
                    "data": {
                        "text/plain": "-1"
                    }, 
                    "output_type": "execute_result"
                }
            ], 
            "source": "Name.find('Jasdfasdasdf')"
        }, 
        {
            "source": " <a id=\"ref4\"></a>\n<h2 align=center> Quiz on Strings </h2>", 
            "cell_type": "markdown", 
            "metadata": {}
        }, 
        {
            "source": "##### What is the value of the variable \"A\" after the following code is executed? \nA=\"1\"", 
            "cell_type": "markdown", 
            "metadata": {}
        }, 
        {
            "execution_count": 33, 
            "cell_type": "code", 
            "metadata": {}, 
            "outputs": [
                {
                    "execution_count": 33, 
                    "metadata": {}, 
                    "data": {
                        "text/plain": "1"
                    }, 
                    "output_type": "execute_result"
                }
            ], 
            "source": "1"
        }, 
        {
            "source": "Double-click __here__ for the solution.\n\n<!-- Your answer is below:\n\"1\"\n-->\n", 
            "cell_type": "markdown", 
            "metadata": {}
        }, 
        {
            "source": "#### What is the value of the variable \"B\" after the following code is executed?\n`B=\"2\"`", 
            "cell_type": "markdown", 
            "metadata": {}
        }, 
        {
            "execution_count": 34, 
            "cell_type": "code", 
            "metadata": {}, 
            "outputs": [
                {
                    "execution_count": 34, 
                    "metadata": {}, 
                    "data": {
                        "text/plain": "2"
                    }, 
                    "output_type": "execute_result"
                }
            ], 
            "source": "2"
        }, 
        {
            "source": "</div>\n\nDouble-click __here__ for the solution.\n\n<!-- Your answer is below:\n\"2\"\n-->", 
            "cell_type": "markdown", 
            "metadata": {}
        }, 
        {
            "source": "#### What is the value of the variable \"C\" after the following code is executed?\n`C=A+B`", 
            "cell_type": "markdown", 
            "metadata": {}
        }, 
        {
            "execution_count": 35, 
            "cell_type": "code", 
            "metadata": {}, 
            "outputs": [
                {
                    "execution_count": 35, 
                    "metadata": {}, 
                    "data": {
                        "text/plain": "12"
                    }, 
                    "output_type": "execute_result"
                }
            ], 
            "source": "12"
        }, 
        {
            "source": "Double-click __here__ for the solution.\n\n<!-- Your answer is below:\n\"12\"\n-->\n", 
            "cell_type": "markdown", 
            "metadata": {}
        }, 
        {
            "source": "#### Consider the variable \"D\": use slicing to print out the first three elements: \n", 
            "cell_type": "markdown", 
            "metadata": {}
        }, 
        {
            "execution_count": 29, 
            "cell_type": "code", 
            "metadata": {}, 
            "outputs": [], 
            "source": "D=\"ABCDEFG\""
        }, 
        {
            "execution_count": 37, 
            "cell_type": "code", 
            "metadata": {}, 
            "outputs": [
                {
                    "execution_count": 37, 
                    "metadata": {}, 
                    "data": {
                        "text/plain": "'ABC'"
                    }, 
                    "output_type": "execute_result"
                }
            ], 
            "source": "D[0:3]"
        }, 
        {
            "source": "\nDouble-click __here__ for the solution.\n\n<!-- Your answer is below:\n\"print(D[:3]) or print(D[0:3])\"\n-->", 
            "cell_type": "markdown", 
            "metadata": {}
        }, 
        {
            "source": "#### Use a stride value of 2 to print out every second character  of the string \"E\": ", 
            "cell_type": "markdown", 
            "metadata": {}
        }, 
        {
            "execution_count": 30, 
            "cell_type": "code", 
            "metadata": {}, 
            "outputs": [], 
            "source": "E='clocrkr1e1c1t'"
        }, 
        {
            "execution_count": 38, 
            "cell_type": "code", 
            "metadata": {}, 
            "outputs": [
                {
                    "execution_count": 38, 
                    "metadata": {}, 
                    "data": {
                        "text/plain": "'correct'"
                    }, 
                    "output_type": "execute_result"
                }
            ], 
            "source": "E[::2]"
        }, 
        {
            "source": "Double-click __here__ for the solution.\n</div>\n\n<!-- Your answer is below:\n\"print(E[::2])\"\n-->", 
            "cell_type": "markdown", 
            "metadata": {}
        }, 
        {
            "source": "#### Print out a backslash:", 
            "cell_type": "markdown", 
            "metadata": {}
        }, 
        {
            "execution_count": 44, 
            "cell_type": "code", 
            "metadata": {}, 
            "outputs": [
                {
                    "output_type": "stream", 
                    "name": "stdout", 
                    "text": " \\ \n \\ \n"
                }
            ], 
            "source": "print(r\" \\ \")\nprint(\" \\\\ \")"
        }, 
        {
            "source": "Double-click __here__ for the solution.\n<!-- Your answer is below:\nprint(\" \\\\\" )\nor\nprint(r\" \\ \" )\n-->\n", 
            "cell_type": "markdown", 
            "metadata": {}
        }, 
        {
            "source": "#### Convert the variable \"F\" to uppercase:", 
            "cell_type": "markdown", 
            "metadata": {}
        }, 
        {
            "execution_count": 31, 
            "cell_type": "code", 
            "metadata": {}, 
            "outputs": [], 
            "source": "F=\"You are wrong\""
        }, 
        {
            "execution_count": null, 
            "cell_type": "code", 
            "metadata": {}, 
            "outputs": [], 
            "source": ""
        }, 
        {
            "source": "\n</div>\nDouble-click __here__ for the solution.\n<!-- Your answer is below:\nF.upper()\n-->", 
            "cell_type": "markdown", 
            "metadata": {}
        }, 
        {
            "source": "#### Consider the variable \"G\", and find the first index of the sub-string 'snow':", 
            "cell_type": "markdown", 
            "metadata": {}
        }, 
        {
            "execution_count": 32, 
            "cell_type": "code", 
            "metadata": {}, 
            "outputs": [], 
            "source": "G=\"Mary had a little lamb Little lamb, little lamb Mary had a little lamb \\\nIts fleece was white as snow And everywhere that Mary went Mary went, Mary went \\\nEverywhere that Mary went The lamb was sure to go\""
        }, 
        {
            "execution_count": null, 
            "cell_type": "code", 
            "metadata": {}, 
            "outputs": [], 
            "source": ""
        }, 
        {
            "source": "\nDouble-click __here__ for the solution.\n<!-- Your answer is below:\nG.find('snow')\n-->\n\n\n", 
            "cell_type": "markdown", 
            "metadata": {}
        }, 
        {
            "source": "#### In the variable \"G\", replace the sub-string Mary with \"Bob\":", 
            "cell_type": "markdown", 
            "metadata": {}
        }, 
        {
            "execution_count": null, 
            "cell_type": "code", 
            "metadata": {}, 
            "outputs": [], 
            "source": ""
        }, 
        {
            "source": "Double-click __here__ for the solution.\n<!-- Your answer is below:\nG.replace(\"Mary\",\"Bob\")-->", 
            "cell_type": "markdown", 
            "metadata": {}
        }, 
        {
            "source": " <div class=\"alert alert-block alert-info\" style=\"margin-top: 20px\">\n <a href=\"http://cocl.us/NotebooksPython101bottom\"><img src = \"https://ibm.box.com/shared/static/irypdxea2q4th88zu1o1tsd06dya10go.png\" width = 750, align = \"center\"></a>\n", 
            "cell_type": "markdown", 
            "metadata": {}
        }, 
        {
            "source": "# About the Authors:  \n\n [Joseph Santarcangelo]( https://www.linkedin.com/in/joseph-s-50398b136/) has a PhD in Electrical Engineering, his research focused on using machine learning, signal processing, and computer vision to determine how videos impact human cognition. Joseph has been working for IBM since he completed his PhD.\n", 
            "cell_type": "markdown", 
            "metadata": {}
        }, 
        {
            "execution_count": null, 
            "cell_type": "code", 
            "metadata": {}, 
            "outputs": [], 
            "source": ""
        }
    ], 
    "metadata": {
        "kernelspec": {
            "display_name": "Python 3.5", 
            "name": "python3", 
            "language": "python"
        }, 
        "language_info": {
            "mimetype": "text/x-python", 
            "nbconvert_exporter": "python", 
            "version": "3.5.5", 
            "name": "python", 
            "file_extension": ".py", 
            "pygments_lexer": "ipython3", 
            "codemirror_mode": {
                "version": 3, 
                "name": "ipython"
            }
        }
    }, 
    "nbformat": 4
}