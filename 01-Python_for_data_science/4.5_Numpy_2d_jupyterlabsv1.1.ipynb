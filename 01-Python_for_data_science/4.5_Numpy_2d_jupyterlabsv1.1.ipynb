{
    "nbformat_minor": 2, 
    "cells": [
        {
            "source": " <div class=\"alert alert-block alert-info\" style=\"margin-top: 20px\">\n <a href=\"http://cocl.us/NotebooksPython101\"><img src = \"https://ibm.box.com/shared/static/yfe6h4az47ktg2mm9h05wby2n7e8kei3.png\" width = 750, align = \"center\"></a>\n\n\n", 
            "cell_type": "markdown", 
            "metadata": {}
        }, 
        {
            "source": "<a href=\"https://www.bigdatauniversity.com\"><img src = \"https://ibm.box.com/shared/static/ugcqz6ohbvff804xp84y4kqnvvk3bq1g.png\" width = 300, align = \"center\"></a>\n\n\n\n<h1 align=center><font size = 5>numpy in Python</font></h1>", 
            "cell_type": "markdown", 
            "metadata": {}
        }, 
        {
            "execution_count": null, 
            "cell_type": "code", 
            "metadata": {
                "collapsed": true
            }, 
            "outputs": [], 
            "source": "\nimport numpy as np \nimport matplotlib.pyplot as plt\n"
        }, 
        {
            "source": " Consider the list **a **, the list contains three nested lists **each of equal size**. ", 
            "cell_type": "markdown", 
            "metadata": {}
        }, 
        {
            "execution_count": null, 
            "cell_type": "code", 
            "metadata": {
                "collapsed": false
            }, 
            "outputs": [], 
            "source": "a=[[11,12,13],[21,22,23],[31,32,33]]\na"
        }, 
        {
            "source": " We can cast the list to a numpy array  as follow", 
            "cell_type": "markdown", 
            "metadata": {}
        }, 
        {
            "execution_count": null, 
            "cell_type": "code", 
            "metadata": {
                "collapsed": false
            }, 
            "outputs": [], 
            "source": "#every elment if of the same type \nA=np.array(a)\nA"
        }, 
        {
            "source": "We can use the attribute **ndim** to obtain the number of axes or dimensions referred to as the rank. ", 
            "cell_type": "markdown", 
            "metadata": {}
        }, 
        {
            "execution_count": null, 
            "cell_type": "code", 
            "metadata": {
                "collapsed": false
            }, 
            "outputs": [], 
            "source": "A.ndim"
        }, 
        {
            "source": " Attribute **shape** returns a tuple corresponding to the size or number of each dimension.", 
            "cell_type": "markdown", 
            "metadata": {}
        }, 
        {
            "execution_count": null, 
            "cell_type": "code", 
            "metadata": {
                "collapsed": false
            }, 
            "outputs": [], 
            "source": "A.shape"
        }, 
        {
            "source": "The total number of elements in the array is given by the attribute **size**.", 
            "cell_type": "markdown", 
            "metadata": {}
        }, 
        {
            "execution_count": null, 
            "cell_type": "code", 
            "metadata": {
                "collapsed": false
            }, 
            "outputs": [], 
            "source": "A.size"
        }, 
        {
            "source": "### Accessing different elements of an Numpy Array ", 
            "cell_type": "markdown", 
            "metadata": {}
        }, 
        {
            "source": " We can use rectangular brackets to access the different elements of the array,The correspondence  between the rectangular brackets and the list and the rectangular representation is shown in the following figure for a 3x3 array:  ", 
            "cell_type": "markdown", 
            "metadata": {}
        }, 
        {
            "source": " <a><img src = \"https://ibm.box.com/shared/static/dsa3nfspbvarlwikt2nuva4ka8ez7stm.png\" width = 500, align = \"center\"></a>\n", 
            "cell_type": "markdown", 
            "metadata": {}
        }, 
        {
            "source": "We can access the 2nd-row 3rd column as shown in the following figure:", 
            "cell_type": "markdown", 
            "metadata": {}
        }, 
        {
            "source": " <a><img src=\"https://ibm.box.com/shared/static/7ezznbkz63cvd39wn6yidqojdqbh9v0u.png\" , width=500,align=\"center\"> </a>", 
            "cell_type": "markdown", 
            "metadata": {}
        }, 
        {
            "source": " We simply use the square brackets and the indices corresponding to the element we would like:", 
            "cell_type": "markdown", 
            "metadata": {}
        }, 
        {
            "execution_count": null, 
            "cell_type": "code", 
            "metadata": {
                "collapsed": false
            }, 
            "outputs": [], 
            "source": "A[1,2]"
        }, 
        {
            "source": " We can also use the following notation to obtain the elements: ", 
            "cell_type": "markdown", 
            "metadata": {}
        }, 
        {
            "execution_count": null, 
            "cell_type": "code", 
            "metadata": {
                "collapsed": false
            }, 
            "outputs": [], 
            "source": "A[1][2]"
        }, 
        {
            "source": " Consider the elements shown in the following figure ", 
            "cell_type": "markdown", 
            "metadata": {}
        }, 
        {
            "source": " <a><img src=\"https://ibm.box.com/shared/static/178texrln4qv2figweqtmgliwwikncnd.png\" width=500,align=\"center\"> </a>", 
            "cell_type": "markdown", 
            "metadata": {}
        }, 
        {
            "source": " we can access the element as follows ", 
            "cell_type": "markdown", 
            "metadata": {}
        }, 
        {
            "execution_count": null, 
            "cell_type": "code", 
            "metadata": {
                "collapsed": false
            }, 
            "outputs": [], 
            "source": "A[0][0]"
        }, 
        {
            "source": " We can also use slicing in numpy arrays,consider the following figure; we would like to obtain the first two columns in the first row  ", 
            "cell_type": "markdown", 
            "metadata": {}
        }, 
        {
            "source": " <a><img src=\"https://ibm.box.com/shared/static/mjmlvk9d9p1fokh5e1ka51bayw8qnv1e.png\" width=500,align=\"center\"> </a>", 
            "cell_type": "markdown", 
            "metadata": {}
        }, 
        {
            "source": " This can be done with the following syntax ", 
            "cell_type": "markdown", 
            "metadata": {}
        }, 
        {
            "execution_count": null, 
            "cell_type": "code", 
            "metadata": {
                "collapsed": false
            }, 
            "outputs": [], 
            "source": " A[0][0:2]"
        }, 
        {
            "source": "Similarly, we can obtain the first two rows of the 3rd column as follows:", 
            "cell_type": "markdown", 
            "metadata": {}
        }, 
        {
            "execution_count": null, 
            "cell_type": "code", 
            "metadata": {
                "collapsed": false
            }, 
            "outputs": [], 
            "source": "A[0:2,2]"
        }, 
        {
            "source": "Corresponding to the following figure: ", 
            "cell_type": "markdown", 
            "metadata": {}
        }, 
        {
            "source": "<a><img src=\"https://ibm.box.com/shared/static/p9y7q111sq4epvkn2vtvkda5667gyiho.png\" width=500,align=\"center\" ></a>", 
            "cell_type": "markdown", 
            "metadata": {}
        }, 
        {
            "source": "# Basic Operations ", 
            "cell_type": "markdown", 
            "metadata": {}
        }, 
        {
            "source": " We can also add arrays; the process is identical to matrix addition. Matrix addition of **X** and **Y** is shown in the following figure:", 
            "cell_type": "markdown", 
            "metadata": {}
        }, 
        {
            "source": " <a><img src=\"https://ibm.box.com/shared/static/6fiwxq3nsnpk3ae82t0vbxv8qtz1c1gs.png\" width=500,align=\"center\"> </a>", 
            "cell_type": "markdown", 
            "metadata": {}
        }, 
        {
            "source": " The numpy array is given by **X** and **Y**", 
            "cell_type": "markdown", 
            "metadata": {}
        }, 
        {
            "execution_count": null, 
            "cell_type": "code", 
            "metadata": {
                "collapsed": false
            }, 
            "outputs": [], 
            "source": "X=np.array([[1,0],[0,1]]) \nX"
        }, 
        {
            "execution_count": null, 
            "cell_type": "code", 
            "metadata": {
                "collapsed": false
            }, 
            "outputs": [], 
            "source": "Y=np.array([[2,1],[1,2]]) \nY"
        }, 
        {
            "source": " We can add the numpy arrays as follows.", 
            "cell_type": "markdown", 
            "metadata": {}
        }, 
        {
            "execution_count": null, 
            "cell_type": "code", 
            "metadata": {
                "collapsed": false
            }, 
            "outputs": [], 
            "source": "Z=X+Y\nZ"
        }, 
        {
            "source": " Multiplying a numpy array by a scaler is identical to multiplying a matrix by a scaler. If we multiply the matrix **Y** by the scaler 2, we simply multiply every element in the matrix by 2 as shown in the figure.", 
            "cell_type": "markdown", 
            "metadata": {}
        }, 
        {
            "source": " <a><img src=\"https://ibm.box.com/shared/static/b942bzigx47l3bfkielh0d36ghurrma8.png\" width=500,align=\"center\"> </a>", 
            "cell_type": "markdown", 
            "metadata": {}
        }, 
        {
            "source": " We can perform the same operation in numpy as follows ", 
            "cell_type": "markdown", 
            "metadata": {}
        }, 
        {
            "execution_count": null, 
            "cell_type": "code", 
            "metadata": {
                "collapsed": false
            }, 
            "outputs": [], 
            "source": "Y=np.array([[2,1],[1,2]]) \nY"
        }, 
        {
            "execution_count": null, 
            "cell_type": "code", 
            "metadata": {
                "collapsed": false
            }, 
            "outputs": [], 
            "source": "Z=2*Y\nZ"
        }, 
        {
            "source": " Multiplication of two arrays corresponds to an element-wise product or  Hadamard product.  Consider matrix  **X** and **Y**. The Hadamard product corresponds to multiplying each of the elements in the same position, i.e. multiplying elements contained in the same colour boxes together. The result is a new matrix that is the same size as matrix **Y** or **X**, as shown in the following figure.", 
            "cell_type": "markdown", 
            "metadata": {}
        }, 
        {
            "source": " <a><img src=\"https://ibm.box.com/shared/static/7yha01bj0orozx9vicpf32p6p4t3f3ii.png\" width=500,align=\"center\"> </a>\n", 
            "cell_type": "markdown", 
            "metadata": {}
        }, 
        {
            "source": "We can perform element-wise product of the array **X** and **Y** as follows:", 
            "cell_type": "markdown", 
            "metadata": {}
        }, 
        {
            "execution_count": null, 
            "cell_type": "code", 
            "metadata": {
                "collapsed": false
            }, 
            "outputs": [], 
            "source": "Y=np.array([[2,1],[1,2]]) \nY"
        }, 
        {
            "execution_count": null, 
            "cell_type": "code", 
            "metadata": {
                "collapsed": false
            }, 
            "outputs": [], 
            "source": "X=np.array([[1,0],[0,1]]) \nX"
        }, 
        {
            "execution_count": null, 
            "cell_type": "code", 
            "metadata": {
                "collapsed": false
            }, 
            "outputs": [], 
            "source": "Z=X*Y\nZ"
        }, 
        {
            "source": " We can also perform matrix multiplication with the numpy arrays **A** and **B** as follows:", 
            "cell_type": "markdown", 
            "metadata": {}
        }, 
        {
            "source": " First, we define matrix **A** and **B**:", 
            "cell_type": "markdown", 
            "metadata": {}
        }, 
        {
            "execution_count": null, 
            "cell_type": "code", 
            "metadata": {
                "collapsed": false
            }, 
            "outputs": [], 
            "source": "A=np.array([[0,1,1],[1,0,1]])\nA"
        }, 
        {
            "execution_count": null, 
            "cell_type": "code", 
            "metadata": {
                "collapsed": false
            }, 
            "outputs": [], 
            "source": "B=np.array([[1,1],[1,1],[-1,1]])\nB"
        }, 
        {
            "source": "We use the numpy function **dot** to multiply the arrays together.", 
            "cell_type": "markdown", 
            "metadata": {}
        }, 
        {
            "execution_count": null, 
            "cell_type": "code", 
            "metadata": {
                "collapsed": false
            }, 
            "outputs": [], 
            "source": "Z=np.dot(A,B)\nZ"
        }, 
        {
            "execution_count": null, 
            "cell_type": "code", 
            "metadata": {
                "collapsed": false
            }, 
            "outputs": [], 
            "source": "np.sin(Z)"
        }, 
        {
            "execution_count": null, 
            "cell_type": "code", 
            "metadata": {
                "collapsed": false
            }, 
            "outputs": [], 
            "source": "C=np.array([[1,1],[2,2],[3,3]])\nC"
        }, 
        {
            "execution_count": null, 
            "cell_type": "code", 
            "metadata": {
                "collapsed": false
            }, 
            "outputs": [], 
            "source": "C.T"
        }, 
        {
            "source": "<a href=\"http://cocl.us/NotebooksPython101bottom\"><img src = \"https://ibm.box.com/shared/static/irypdxea2q4th88zu1o1tsd06dya10go.png\" width = 750, align = \"center\"></a>\n\n", 
            "cell_type": "markdown", 
            "metadata": {}
        }, 
        {
            "source": "#### About the Authors:  \n\n [Joseph Santarcangelo]( https://www.linkedin.com/in/joseph-s-50398b136/) has a PhD in Electrical Engineering, his research focused on using machine learning, signal processing, and computer vision to determine how videos impact human cognition. Joseph has been working for IBM since he completed his PhD.", 
            "cell_type": "markdown", 
            "metadata": {}
        }, 
        {
            "source": "Copyright &copy; 2017 [cognitiveclass.ai](cognitiveclass.ai?utm_source=bducopyrightlink&utm_medium=dswb&utm_campaign=bdu). This notebook and its source code are released under the terms of the [MIT License](https://bigdatauniversity.com/mit-license/).\u200b", 
            "cell_type": "markdown", 
            "metadata": {}
        }, 
        {
            "execution_count": null, 
            "cell_type": "code", 
            "metadata": {
                "collapsed": true
            }, 
            "outputs": [], 
            "source": ""
        }
    ], 
    "metadata": {
        "kernelspec": {
            "display_name": "Python 3", 
            "name": "python3", 
            "language": "python"
        }, 
        "language_info": {
            "mimetype": "text/x-python", 
            "nbconvert_exporter": "python", 
            "version": "3.6.5", 
            "name": "python", 
            "file_extension": ".py", 
            "pygments_lexer": "ipython3", 
            "codemirror_mode": {
                "version": 3, 
                "name": "ipython"
            }
        }
    }, 
    "nbformat": 4
}