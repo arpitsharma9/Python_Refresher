{
    "nbformat_minor": 2, 
    "cells": [
        {
            "source": " <div class=\"alert alert-block alert-info\" style=\"margin-top: 20px\">\n <a href=\"http://cocl.us/NotebooksPython101\"><img src = \"https://ibm.box.com/shared/static/yfe6h4az47ktg2mm9h05wby2n7e8kei3.png\" width = 750, align = \"center\"></a>\n\n\n\n", 
            "cell_type": "markdown", 
            "metadata": {}
        }, 
        {
            "source": " <a href=\"https://www.bigdatauniversity.com\"><img src = \"https://ibm.box.com/shared/static/ugcqz6ohbvff804xp84y4kqnvvk3bq1g.png\" width = 300, align = \"center\"></a>\n\n<h1 align=center><font size = 5>Sets and Dictionaries</font></h1>", 
            "cell_type": "markdown", 
            "metadata": {}
        }, 
        {
            "source": "\n## Table of Contents\n\n\n<div class=\"alert alert-block alert-info\" style=\"margin-top: 20px\">\n<li><a href=\"#ref1\">Sets</a></li>\n\n<br>\n<p></p>\nEstimated Time Needed: <strong>20 min</strong>\n</div>\n\n<hr>", 
            "cell_type": "markdown", 
            "metadata": {}
        }, 
        {
            "source": "<a id=\"ref1\"></a>\n<center><h2>Sets</h2></center>\n\nIn this lab, we are going to take a look at sets in Python. A set is a unique collection of objects in Python. You can denote a set with a curly bracket **{}**. Python will remove duplicate items:\n", 
            "cell_type": "markdown", 
            "metadata": {}
        }, 
        {
            "execution_count": 1, 
            "cell_type": "code", 
            "metadata": {}, 
            "outputs": [
                {
                    "execution_count": 1, 
                    "metadata": {}, 
                    "data": {
                        "text/plain": "{'R&B', 'disco', 'hard rock', 'pop', 'rock', 'soul'}"
                    }, 
                    "output_type": "execute_result"
                }
            ], 
            "source": "set1={\"pop\", \"rock\", \"soul\", \"hard rock\", \"rock\", \"R&B\", \"rock\", \"disco\"}\nset1"
        }, 
        {
            "source": "The process of mapping is illustrated in the figure:\n", 
            "cell_type": "markdown", 
            "metadata": {}
        }, 
        {
            "source": "<a ><img src = https://ibm.box.com/shared/static/i0xb9qbetek7kbh17krx05i4lqmywahm.png width = 1100, align = \"center\"></a>\n", 
            "cell_type": "markdown", 
            "metadata": {}
        }, 
        {
            "source": " You can also  create a set from a list as follows:", 
            "cell_type": "markdown", 
            "metadata": {}
        }, 
        {
            "execution_count": 2, 
            "cell_type": "code", 
            "metadata": {
                "scrolled": true
            }, 
            "outputs": [
                {
                    "execution_count": 2, 
                    "metadata": {}, 
                    "data": {
                        "text/plain": "{'Pop, Rock, R&B',\n 65,\n '00:42:19',\n 'Thriller',\n 10.0,\n 46.0,\n None,\n '30-Nov-82',\n 'Michael Jackson',\n 1982}"
                    }, 
                    "output_type": "execute_result"
                }
            ], 
            "source": "album_list =[ \"Michael Jackson\", \"Thriller\", 1982, \"00:42:19\", \\\n              \"Pop, Rock, R&B\", 46.0, 65, \"30-Nov-82\", None, 10.0]\n\nalbum_set = set(album_list)             \nalbum_set"
        }, 
        {
            "source": "Now let us create a set of  genres:", 
            "cell_type": "markdown", 
            "metadata": {}
        }, 
        {
            "execution_count": 3, 
            "cell_type": "code", 
            "metadata": {}, 
            "outputs": [
                {
                    "execution_count": 3, 
                    "metadata": {}, 
                    "data": {
                        "text/plain": "{'R&B',\n 'disco',\n 'folk rock',\n 'hard rock',\n 'pop',\n 'progressive rock',\n 'rock',\n 'soft rock',\n 'soul'}"
                    }, 
                    "output_type": "execute_result"
                }
            ], 
            "source": "music_genres = set([\"pop\", \"pop\", \"rock\", \"folk rock\", \"hard rock\", \"soul\", \\\n                    \"progressive rock\", \"soft rock\", \"R&B\", \"disco\"])\nmusic_genres"
        }, 
        {
            "source": "#### Convert the following list to a set ['rap','house','electronic music', 'rap']:", 
            "cell_type": "markdown", 
            "metadata": {}
        }, 
        {
            "execution_count": 4, 
            "cell_type": "code", 
            "metadata": {}, 
            "outputs": [
                {
                    "execution_count": 4, 
                    "metadata": {}, 
                    "data": {
                        "text/plain": "{'electronic music', 'house', 'rap'}"
                    }, 
                    "output_type": "execute_result"
                }
            ], 
            "source": "set( ['rap','house','electronic music', 'rap'])"
        }, 
        {
            "source": "Double-click __here__ for the solution.\n<!-- Your answer is below:\nset(['rap','house','electronic music','rap'])\n-->", 
            "cell_type": "markdown", 
            "metadata": {}
        }, 
        {
            "source": "Notice that the duplicates are removed and the output is sorted.", 
            "cell_type": "markdown", 
            "metadata": {}
        }, 
        {
            "source": "Let us get the sum of the claimed sales:", 
            "cell_type": "markdown", 
            "metadata": {}
        }, 
        {
            "source": "#### Consider the list A=[1,2,2,1] and set B=set([1,2,2,1]), does sum(A)=sum(B) ", 
            "cell_type": "markdown", 
            "metadata": {}
        }, 
        {
            "execution_count": 5, 
            "cell_type": "code", 
            "metadata": {}, 
            "outputs": [
                {
                    "output_type": "stream", 
                    "name": "stdout", 
                    "text": "False\n"
                }
            ], 
            "source": "A=[1,2,2,1] \nB=set([1,2,2,1])\n\nif sum(A)==sum(B):\n    print(True)\nelse:\n    print(False)\n    "
        }, 
        {
            "source": "Double-click __here__ for the solution.\n<!-- Your answer is below:\nA=[1,2,2,1]  \nB=set([1,2,2,1])\nprint(\"the sum of A is:\",sum(A))\nprint(\"the sum of B is:\",sum(B))-->\n", 
            "cell_type": "markdown", 
            "metadata": {}
        }, 
        {
            "source": "Now let's determine the average rating:", 
            "cell_type": "markdown", 
            "metadata": {}
        }, 
        {
            "source": "### Set Operations ", 
            "cell_type": "markdown", 
            "metadata": {}
        }, 
        {
            "source": " Let us go over Set Operations, as these can be used to change the set. Consider the set **A**:", 
            "cell_type": "markdown", 
            "metadata": {}
        }, 
        {
            "execution_count": 6, 
            "cell_type": "code", 
            "metadata": {}, 
            "outputs": [
                {
                    "execution_count": 6, 
                    "metadata": {}, 
                    "data": {
                        "text/plain": "{'AC/DC', 'Back in Black', 'Thriller'}"
                    }, 
                    "output_type": "execute_result"
                }
            ], 
            "source": "A = set([\"Thriller\",\"Back in Black\", \"AC/DC\"] )\nA"
        }, 
        {
            "source": " We can add an element to a set using the **add()** method: ", 
            "cell_type": "markdown", 
            "metadata": {}
        }, 
        {
            "execution_count": 7, 
            "cell_type": "code", 
            "metadata": {}, 
            "outputs": [
                {
                    "execution_count": 7, 
                    "metadata": {}, 
                    "data": {
                        "text/plain": "{'AC/DC', 'Back in Black', 'NSYNC', 'Thriller'}"
                    }, 
                    "output_type": "execute_result"
                }
            ], 
            "source": "A.add(\"NSYNC\")\nA"
        }, 
        {
            "source": " If we add the same element twice, nothing will happen as there can be no duplicates in a set:\n", 
            "cell_type": "markdown", 
            "metadata": {}
        }, 
        {
            "execution_count": 8, 
            "cell_type": "code", 
            "metadata": {}, 
            "outputs": [
                {
                    "execution_count": 8, 
                    "metadata": {}, 
                    "data": {
                        "text/plain": "{'AC/DC', 'Back in Black', 'NSYNC', 'Thriller'}"
                    }, 
                    "output_type": "execute_result"
                }
            ], 
            "source": "A.add(\"NSYNC\")\nA"
        }, 
        {
            "source": " We can remove an item from a set using the remove method:", 
            "cell_type": "markdown", 
            "metadata": {}
        }, 
        {
            "execution_count": 9, 
            "cell_type": "code", 
            "metadata": {}, 
            "outputs": [
                {
                    "execution_count": 9, 
                    "metadata": {}, 
                    "data": {
                        "text/plain": "{'AC/DC', 'Back in Black', 'Thriller'}"
                    }, 
                    "output_type": "execute_result"
                }
            ], 
            "source": "A.remove(\"NSYNC\")\nA"
        }, 
        {
            "source": " We can verify if an element is in the set using the **in** command :", 
            "cell_type": "markdown", 
            "metadata": {}
        }, 
        {
            "execution_count": 10, 
            "cell_type": "code", 
            "metadata": {}, 
            "outputs": [
                {
                    "execution_count": 10, 
                    "metadata": {}, 
                    "data": {
                        "text/plain": "True"
                    }, 
                    "output_type": "execute_result"
                }
            ], 
            "source": "\"AC/DC\"  in A\n"
        }, 
        {
            "source": "### Working with sets", 
            "cell_type": "markdown", 
            "metadata": {}
        }, 
        {
            "source": "Remember that with sets you can check the difference between sets, as well as the symmetric difference, intersection, and union:", 
            "cell_type": "markdown", 
            "metadata": {}
        }, 
        {
            "source": " Consider the following two sets:", 
            "cell_type": "markdown", 
            "metadata": {}
        }, 
        {
            "execution_count": 11, 
            "cell_type": "code", 
            "metadata": {}, 
            "outputs": [], 
            "source": "album_set1 = set([\"Thriller\",'AC/DC', 'Back in Black'] )\nalbum_set2 = set([ \"AC/DC\",\"Back in Black\", \"The Dark Side of the Moon\"] )"
        }, 
        {
            "source": " <a ><img src = \"https://ibm.box.com/shared/static/bl6ijga6g8r7bdfkl17qw7zh62czte47.png\" width = 850, align = \"center\"></a>\n  <h4 align=center>  Visualizing the sets as two circles \n \n  </h4> ", 
            "cell_type": "markdown", 
            "metadata": {}
        }, 
        {
            "execution_count": 12, 
            "cell_type": "code", 
            "metadata": {
                "scrolled": true
            }, 
            "outputs": [
                {
                    "execution_count": 12, 
                    "metadata": {}, 
                    "data": {
                        "text/plain": "({'AC/DC', 'Back in Black', 'Thriller'},\n {'AC/DC', 'Back in Black', 'The Dark Side of the Moon'})"
                    }, 
                    "output_type": "execute_result"
                }
            ], 
            "source": "album_set1, album_set2"
        }, 
        {
            "source": " As both sets contain 'AC/DC' and 'Back in Black' we represent these common elements with the intersection of two circles.    \n", 
            "cell_type": "markdown", 
            "metadata": {}
        }, 
        {
            "source": " <a ><img src = \"https://ibm.box.com/shared/static/7ttuf8otui4s6axm23csmb4s3pxz16y2.png\" width = 650, align = \"center\"></a>\n  <h4 align=center>  Visualizing common elements with the intersection of two circles.\n \n  </h4> ", 
            "cell_type": "markdown", 
            "metadata": {}
        }, 
        {
            "source": "We can find the common elements of the sets as follows:", 
            "cell_type": "markdown", 
            "metadata": {}
        }, 
        {
            "execution_count": 13, 
            "cell_type": "code", 
            "metadata": {}, 
            "outputs": [
                {
                    "execution_count": 13, 
                    "metadata": {}, 
                    "data": {
                        "text/plain": "{'AC/DC', 'Back in Black'}"
                    }, 
                    "output_type": "execute_result"
                }
            ], 
            "source": "album_set_3=album_set1 & album_set2\nalbum_set_3"
        }, 
        {
            "source": "We can find all the elements that are only contained in **album_set1** using the **difference** method:", 
            "cell_type": "markdown", 
            "metadata": {}
        }, 
        {
            "execution_count": 14, 
            "cell_type": "code", 
            "metadata": {}, 
            "outputs": [
                {
                    "execution_count": 14, 
                    "metadata": {}, 
                    "data": {
                        "text/plain": "{'Thriller'}"
                    }, 
                    "output_type": "execute_result"
                }
            ], 
            "source": "album_set1.difference(album_set2)  "
        }, 
        {
            "source": "We only consider elements in **album_set1**; all the elements in **album_set2**, including the intersection, are not included.\n", 
            "cell_type": "markdown", 
            "metadata": {}
        }, 
        {
            "source": " <a ><img src = \"https://ibm.box.com/shared/static/osmxw1qnb5t9odon2cx94wxhfzlkn1n8.png\" width = 650, align = \"center\"></a>\n  <h4 align=center>  The difference of \u201calbum_set1\u201d and   \u201calbum_set2\n \n  </h4> ", 
            "cell_type": "markdown", 
            "metadata": {}
        }, 
        {
            "source": "The difference between **album_set2** and **album_set1** is given by:", 
            "cell_type": "markdown", 
            "metadata": {}
        }, 
        {
            "execution_count": 15, 
            "cell_type": "code", 
            "metadata": {}, 
            "outputs": [
                {
                    "execution_count": 15, 
                    "metadata": {}, 
                    "data": {
                        "text/plain": "{'The Dark Side of the Moon'}"
                    }, 
                    "output_type": "execute_result"
                }
            ], 
            "source": "album_set2.difference(album_set1)  "
        }, 
        {
            "source": "<a ><img src = \"https://ibm.box.com/shared/static/klgc09bgpsjudr9v3wtl8yk9s2lya3hl.png\" width = 650, align = \"center\"></a>\n  <h4 align=center>  The difference of **album_set2** and   **album_set1**\n \n  </h4> ", 
            "cell_type": "markdown", 
            "metadata": {}
        }, 
        {
            "source": "We can also find the intersection, i.e in both **album_list2** and **album_list1**, using the intersection command :", 
            "cell_type": "markdown", 
            "metadata": {}
        }, 
        {
            "execution_count": 16, 
            "cell_type": "code", 
            "metadata": {}, 
            "outputs": [
                {
                    "execution_count": 16, 
                    "metadata": {}, 
                    "data": {
                        "text/plain": "{'AC/DC', 'Back in Black'}"
                    }, 
                    "output_type": "execute_result"
                }
            ], 
            "source": "album_set1.intersection(album_set2)   "
        }, 
        {
            "source": " This corresponds to the intersection of the two circles:", 
            "cell_type": "markdown", 
            "metadata": {}
        }, 
        {
            "source": " <a ><img src = \"https://ibm.box.com/shared/static/s2xfytq43twp6jsvbvr4o2fir7wdablo.png\" width = 650, align = \"center\"></a>\n  <h4 align=center>  Intersection of set\n \n  </h4> ", 
            "cell_type": "markdown", 
            "metadata": {}
        }, 
        {
            "source": " The union corresponds to all the elements in both sets, which is represented by colouring  both circles:\n", 
            "cell_type": "markdown", 
            "metadata": {}
        }, 
        {
            "source": " <a ><img src = \"https://ibm.box.com/shared/static/vkczce5jh50g0oh53xn0ilgriflcrog0.png\" width = 650, align = \"center\"></a>\n  <h4 align=center> Figure 7:  Union of set\n \n  </h4> ", 
            "cell_type": "markdown", 
            "metadata": {}
        }, 
        {
            "source": " The union is given by:", 
            "cell_type": "markdown", 
            "metadata": {}
        }, 
        {
            "execution_count": 17, 
            "cell_type": "code", 
            "metadata": {}, 
            "outputs": [
                {
                    "execution_count": 17, 
                    "metadata": {}, 
                    "data": {
                        "text/plain": "{'AC/DC', 'Back in Black', 'The Dark Side of the Moon', 'Thriller'}"
                    }, 
                    "output_type": "execute_result"
                }
            ], 
            "source": "album_set1.union(album_set2)"
        }, 
        {
            "source": "And you can check if a set is a superset or subset of another set, respectively, like this:", 
            "cell_type": "markdown", 
            "metadata": {}
        }, 
        {
            "execution_count": 18, 
            "cell_type": "code", 
            "metadata": {}, 
            "outputs": [
                {
                    "execution_count": 18, 
                    "metadata": {}, 
                    "data": {
                        "text/plain": "False"
                    }, 
                    "output_type": "execute_result"
                }
            ], 
            "source": "set(album_set1).issuperset(album_set2)   "
        }, 
        {
            "execution_count": 19, 
            "cell_type": "code", 
            "metadata": {}, 
            "outputs": [
                {
                    "execution_count": 19, 
                    "metadata": {}, 
                    "data": {
                        "text/plain": "False"
                    }, 
                    "output_type": "execute_result"
                }
            ], 
            "source": "set(album_set2).issubset(album_set1)     "
        }, 
        {
            "source": "Here is an example where **issubset()** is **issuperset()** is true:", 
            "cell_type": "markdown", 
            "metadata": {}
        }, 
        {
            "execution_count": 20, 
            "cell_type": "code", 
            "metadata": {}, 
            "outputs": [
                {
                    "execution_count": 20, 
                    "metadata": {}, 
                    "data": {
                        "text/plain": "True"
                    }, 
                    "output_type": "execute_result"
                }
            ], 
            "source": "set({\"Back in Black\", \"AC/DC\"}).issubset(album_set1) "
        }, 
        {
            "execution_count": 21, 
            "cell_type": "code", 
            "metadata": {}, 
            "outputs": [
                {
                    "execution_count": 21, 
                    "metadata": {}, 
                    "data": {
                        "text/plain": "True"
                    }, 
                    "output_type": "execute_result"
                }
            ], 
            "source": "album_set1.issuperset({\"Back in Black\", \"AC/DC\"})   "
        }, 
        {
            "source": "#### Create a new set \u201calbum_set3\u201d that is the union of \u201calbum_set1\u201d and \u201calbum_set2\u201d:", 
            "cell_type": "markdown", 
            "metadata": {}
        }, 
        {
            "execution_count": 23, 
            "cell_type": "code", 
            "metadata": {}, 
            "outputs": [
                {
                    "execution_count": 23, 
                    "metadata": {}, 
                    "data": {
                        "text/plain": "{'AC/DC', 'Back in Black', 'The Dark Side of the Moon', 'Thriller'}"
                    }, 
                    "output_type": "execute_result"
                }
            ], 
            "source": "album_set3=album_set1.union(album_set2)\nalbum_set3"
        }, 
        {
            "source": "\nDouble-click __here__ for the solution.\n<!-- Your answer is below:\nalbum_set3=album_set1.union(album_set2)\nalbum_set3-->", 
            "cell_type": "markdown", 
            "metadata": {}
        }, 
        {
            "source": "#### Find out if  \"album_set1\" is a subset of \"album_set3\":", 
            "cell_type": "markdown", 
            "metadata": {}
        }, 
        {
            "execution_count": 24, 
            "cell_type": "code", 
            "metadata": {}, 
            "outputs": [
                {
                    "execution_count": 24, 
                    "metadata": {}, 
                    "data": {
                        "text/plain": "True"
                    }, 
                    "output_type": "execute_result"
                }
            ], 
            "source": "album_set1.issubset(album_set3)"
        }, 
        {
            "source": "\nDouble-click __here__ for the solution.\n<!-- Your answer is below:\nalbum_set1.issubset(album_set3)  -->", 
            "cell_type": "markdown", 
            "metadata": {}
        }, 
        {
            "source": " <a href=\"http://cocl.us/NotebooksPython101bottom\"><img src = \"https://ibm.box.com/shared/static/irypdxea2q4th88zu1o1tsd06dya10go.png\" width = 750, align = \"center\"></a>\n\n", 
            "cell_type": "markdown", 
            "metadata": {}
        }, 
        {
            "source": "\n\n# About the Authors:  \n\n [Joseph Santarcangelo]( https://www.linkedin.com/in/joseph-s-50398b136/) has a PhD in Electrical Engineering, his research focused on using machine learning, signal processing, and computer vision to determine how videos impact human cognition. Joseph has been working for IBM since he completed his PhD.\n\n", 
            "cell_type": "markdown", 
            "metadata": {}
        }, 
        {
            "source": " <hr>\nCopyright &copy; 2017 [cognitiveclass.ai](cognitiveclass.ai?utm_source=bducopyrightlink&utm_medium=dswb&utm_campaign=bdu). This notebook and its source code are released under the terms of the [MIT License](https://bigdatauniversity.com/mit-license/).", 
            "cell_type": "markdown", 
            "metadata": {}
        }
    ], 
    "metadata": {
        "kernelspec": {
            "display_name": "Python 3.5", 
            "name": "python3", 
            "language": "python"
        }, 
        "language_info": {
            "mimetype": "text/x-python", 
            "nbconvert_exporter": "python", 
            "version": "3.5.5", 
            "name": "python", 
            "file_extension": ".py", 
            "pygments_lexer": "ipython3", 
            "codemirror_mode": {
                "version": 3, 
                "name": "ipython"
            }
        }
    }, 
    "nbformat": 4
}